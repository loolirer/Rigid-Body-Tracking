{
 "cells": [
  {
   "cell_type": "markdown",
   "metadata": {},
   "source": [
    "# Understanding the camera calibration process\n",
    "\n",
    "Use the *Rigid Body Tracking* package and the CoppeliaSim API to understand and analyze the image formation and the camera calibration problem. \n",
    "\n",
    "**Objective:** Find the point projection problem using the Coppelia data. \n",
    "\n",
    "## Mathematical foundation of the perspective camera\n",
    "\n",
    "<p align = 'center'>\n",
    "    <img src = 'Images/image-plane.jpeg'>\n",
    "</p>\n",
    "\n",
    "The point $p$ in the image plane is described by:\n",
    "$$ x = f\\frac{X}{Z}$$\n",
    "$$ y = f\\frac{Y}{Z}$$\n",
    "\n",
    "---\n",
    "\n",
    "Writing the point $p$ in homogenous coordinates: \n",
    "$$ \\tilde{x} = fX $$\n",
    "$$ \\tilde{y} = fY $$\n",
    "$$ \\tilde{z} = Z $$\n",
    "\n",
    "In matrix form: \n",
    "\n",
    "$$ \\tilde{p} = \\begin{pmatrix} f & 0 & 0\\\\ 0 &f  &0 \\\\ 0 & 0 &1 \\end{pmatrix}\n",
    "\\cdot \\begin{pmatrix} X\\\\ Y\\\\ Z \\end{pmatrix} $$\n",
    "\n",
    "Where the nonhomogeneous image-plane coordinates are: \n",
    "\n",
    "$$ x = \\frac{\\tilde{x}}{\\tilde{z}} $$\n",
    "$$ y = \\frac{\\tilde{y}}{\\tilde{z}} $$\n",
    "\n",
    "---\n",
    "\n",
    "<p align = 'center'>\n",
    "    <img src = 'Images/camera-pose.jpeg'>\n",
    "</p>\n",
    "\n",
    "The world point P need to be written in respect to the camera coordinate frame. The coordinate vector of the world point with respect to the camera frame can be describe as: \n",
    "\n",
    "$${^CP}= {^OE_C} \\cdot {^OP} $$ \n",
    "\n",
    "Where ${^OE_C}$ is the transformation matrix of the world coordinate frame to the camera coordinate frame. This transformation is describe as a rotation and a translation combined. \n",
    "\n",
    "---\n",
    "\n",
    "Now, the perspective projection of a camera is: \n",
    "\n",
    "$$ \\begin{pmatrix}\n",
    "\\tilde{x}\\\\ \n",
    "\\tilde{y}\\\\ \n",
    "\\tilde{z}\n",
    "\\end{pmatrix}= \\begin{pmatrix}\n",
    "f & 0 & 0\\\\ \n",
    "0 &f  &0 \\\\ \n",
    "0 & 0 &1 \n",
    "\\end{pmatrix}\\cdot \n",
    "\\begin{pmatrix}\n",
    "{^CR_O} & {^Ct_O}\\\\ \n",
    "0 & 1\n",
    "\\end{pmatrix}\n",
    "\\begin{pmatrix}\n",
    "X\\\\ \n",
    "Y\\\\ \n",
    "Z\\\\\n",
    "1\n",
    "\\end{pmatrix}$$ \n",
    "\n",
    "\n",
    "$$ \\tilde{p} = M_{int}\\cdot M{ext}\\cdot \\tilde{P}$$ "
   ]
  },
  {
   "cell_type": "markdown",
   "metadata": {},
   "source": [
    "---"
   ]
  },
  {
   "cell_type": "markdown",
   "metadata": {},
   "source": [
    "Ta faltando o que: (ordem de importância)\n",
    "\n",
    "- definir o erro da calibração \n",
    "- funcao para calcular o erro\n",
    "- função para minimizar os parâmetros\n",
    "---"
   ]
  },
  {
   "cell_type": "code",
   "execution_count": 1,
   "metadata": {},
   "outputs": [],
   "source": [
    "import numpy as np\n",
    "import matplotlib.pyplot as plt\n",
    "import cv2\n",
    "\n",
    "from cv2 import projectPoints, Rodrigues\n",
    "from modules.viewer import Viewer\n",
    "from modules.feed import Feed\n",
    "from modules.frame import Frame\n",
    "from modules.rigid import *\n",
    "from modules.camera import *\n",
    "\n",
    "from coppeliasim_zmqremoteapi_client import RemoteAPIClient\n"
   ]
  },
  {
   "cell_type": "markdown",
   "metadata": {},
   "source": [
    "### 1° Define the references frames and the image plane \n",
    "\n",
    "- The rotation and translation of the camera must be the same as in Coppelia"
   ]
  },
  {
   "cell_type": "code",
   "execution_count": 2,
   "metadata": {},
   "outputs": [
    {
     "data": {
      "text/plain": [
       "'# Create the world coordinate frame\\nworld = Frame()\\n\\n# Start simulation in CoppeliaSim\\nsim.startSimulation() \\n\\n# Get Vision_sensor transformation matrix (R and t related to world coordinate frame)\\ntransformation_matrix = sim.getObjectMatrix(visionSensorHandle, -1)\\neuler_angles = sim.getEulerAnglesFromMatrix(transformation_matrix) # Euler angles are used just for debug\\ntransformation_matrix = np.array(transformation_matrix).reshape(3,4) # Transform to a 3 x 4 matrix\\n\\n# Stop simulation in CoppeliaSim\\nsim.stopSimulation()\\n\\n# Get the extrinsic parameters of the camera\\nrotation_matrix, translation_vector = split_homo(transformation_matrix)\\n\\n# Create the camera frame\\ncamera = Frame(rotation_matrix,translation_vector)\\n\\n# Define the camera characteristics \\nsensor_size = (0.368, 0.274)\\nfocal_dist = 0.304\\n\\n# Create the image plane - Define the points of this plane\\nimage_plane = crete_image_plane(sensor_size[0],sensor_size[1],transformation_matrix,focal_dist)'"
      ]
     },
     "execution_count": 2,
     "metadata": {},
     "output_type": "execute_result"
    }
   ],
   "source": [
    "'''# Create the world coordinate frame\n",
    "world = Frame()\n",
    "\n",
    "# Start simulation in CoppeliaSim\n",
    "sim.startSimulation() \n",
    "\n",
    "# Get Vision_sensor transformation matrix (R and t related to world coordinate frame)\n",
    "transformation_matrix = sim.getObjectMatrix(visionSensorHandle, -1)\n",
    "euler_angles = sim.getEulerAnglesFromMatrix(transformation_matrix) # Euler angles are used just for debug\n",
    "transformation_matrix = np.array(transformation_matrix).reshape(3,4) # Transform to a 3 x 4 matrix\n",
    "\n",
    "# Stop simulation in CoppeliaSim\n",
    "sim.stopSimulation()\n",
    "\n",
    "# Get the extrinsic parameters of the camera\n",
    "rotation_matrix, translation_vector = split_homo(transformation_matrix)\n",
    "\n",
    "# Create the camera frame\n",
    "camera = Frame(rotation_matrix,translation_vector)\n",
    "\n",
    "# Define the camera characteristics \n",
    "sensor_size = (0.368, 0.274)\n",
    "focal_dist = 0.304\n",
    "\n",
    "# Create the image plane - Define the points of this plane\n",
    "image_plane = crete_image_plane(sensor_size[0],sensor_size[1],transformation_matrix,focal_dist)'''"
   ]
  },
  {
   "cell_type": "markdown",
   "metadata": {},
   "source": [
    "### 2° Generate random world points and see their projections in image plane"
   ]
  },
  {
   "cell_type": "code",
   "execution_count": 3,
   "metadata": {},
   "outputs": [
    {
     "data": {
      "text/plain": [
       "'# Generate random point for scene \\nnumber_of_points = 15\\npoints_in_scene = generate_random_points(number_of_points)\\n\\n# Reshape for better printing \\nprint(\"The random points are: \\n\", points_in_scene.T.reshape(number_of_points,3))'"
      ]
     },
     "execution_count": 3,
     "metadata": {},
     "output_type": "execute_result"
    }
   ],
   "source": [
    "'''# Generate random point for scene \n",
    "number_of_points = 15\n",
    "points_in_scene = generate_random_points(number_of_points)\n",
    "\n",
    "# Reshape for better printing \n",
    "print(\"The random points are: \\n\", points_in_scene.T.reshape(number_of_points,3))'''"
   ]
  },
  {
   "cell_type": "markdown",
   "metadata": {},
   "source": [
    "### 3° Create the ground truth camera intrinsic matrix"
   ]
  },
  {
   "cell_type": "code",
   "execution_count": 4,
   "metadata": {},
   "outputs": [
    {
     "data": {
      "text/plain": [
       "'camera_intrinsics = create_intrinsic_matrix(focal_dist)'"
      ]
     },
     "execution_count": 4,
     "metadata": {},
     "output_type": "execute_result"
    }
   ],
   "source": [
    "'''camera_intrinsics = create_intrinsic_matrix(focal_dist)'''"
   ]
  },
  {
   "cell_type": "markdown",
   "metadata": {},
   "source": [
    "### Plot the setup"
   ]
  },
  {
   "cell_type": "code",
   "execution_count": 5,
   "metadata": {},
   "outputs": [
    {
     "data": {
      "text/html": [
       "        <script type=\"text/javascript\">\n",
       "        window.PlotlyConfig = {MathJaxConfig: 'local'};\n",
       "        if (window.MathJax && window.MathJax.Hub && window.MathJax.Hub.Config) {window.MathJax.Hub.Config({SVG: {font: \"STIX-Web\"}});}\n",
       "        if (typeof require !== 'undefined') {\n",
       "        require.undef(\"plotly\");\n",
       "        requirejs.config({\n",
       "            paths: {\n",
       "                'plotly': ['https://cdn.plot.ly/plotly-2.27.0.min']\n",
       "            }\n",
       "        });\n",
       "        require(['plotly'], function(Plotly) {\n",
       "            window._Plotly = Plotly;\n",
       "        });\n",
       "        }\n",
       "        </script>\n",
       "        "
      ]
     },
     "metadata": {},
     "output_type": "display_data"
    },
    {
     "data": {
      "text/html": [
       "<div>                            <div id=\"16352fcb-7a6a-4078-9915-315eb32070f8\" class=\"plotly-graph-div\" style=\"height:700px; width:900px;\"></div>            <script type=\"text/javascript\">                require([\"plotly\"], function(Plotly) {                    window.PLOTLYENV=window.PLOTLYENV || {};                                    if (document.getElementById(\"16352fcb-7a6a-4078-9915-315eb32070f8\")) {                    Plotly.newPlot(                        \"16352fcb-7a6a-4078-9915-315eb32070f8\",                        [{\"legendgroup\":\"Frames\",\"legendgrouptitle\":{\"text\":\"Frames\"},\"marker\":{\"opacity\":0.8,\"size\":4},\"mode\":\"markers\",\"name\":\"Camera Frame\",\"showlegend\":true,\"x\":[0.0],\"y\":[0.0],\"z\":[0.0],\"type\":\"scatter3d\"},{\"hoverinfo\":\"skip\",\"line\":{\"color\":\"red\",\"width\":2},\"mode\":\"lines\",\"name\":\"xCamera Frame\",\"showlegend\":false,\"x\":[0.0,100.0],\"y\":[0.0,0.0],\"z\":[0.0,0.0],\"type\":\"scatter3d\"},{\"hoverinfo\":\"skip\",\"line\":{\"color\":\"green\",\"width\":2},\"mode\":\"lines\",\"name\":\"yCamera Frame\",\"showlegend\":false,\"x\":[0.0,0.0],\"y\":[0.0,100.0],\"z\":[0.0,0.0],\"type\":\"scatter3d\"},{\"hoverinfo\":\"skip\",\"line\":{\"color\":\"blue\",\"width\":2},\"mode\":\"lines\",\"name\":\"zCamera Frame\",\"showlegend\":false,\"x\":[0.0,0.0],\"y\":[0.0,0.0],\"z\":[0.0,100.0],\"type\":\"scatter3d\"},{\"legendgroup\":\"Points\",\"legendgrouptitle\":{\"text\":\"Points\"},\"marker\":{\"color\":\"black\",\"opacity\":0.8,\"size\":3},\"mode\":\"markers\",\"name\":\"World Point\",\"showlegend\":false,\"x\":[-0.2],\"y\":[0.3],\"z\":[1.0],\"type\":\"scatter3d\"},{\"color\":\"lightsteelblue\",\"flatshading\":true,\"hoverinfo\":\"skip\",\"legendgroup\":\"References\",\"legendgrouptitle\":{\"text\":\"References\"},\"name\":\"Image Plane\",\"opacity\":0.5,\"showlegend\":true,\"x\":[0.0,480.0,0.0,480.0],\"y\":[0.0,0.0,480.0,480.0],\"z\":[0.0,0.0,0.0,0.0],\"type\":\"mesh3d\"},{\"legendgroup\":\"Points\",\"legendgrouptitle\":{\"text\":\"Points\"},\"marker\":{\"color\":\"red\",\"opacity\":0.8,\"size\":3},\"mode\":\"markers\",\"name\":\"Image Point\",\"showlegend\":false,\"x\":[156.8615612366939],\"y\":[364.70765814495917],\"z\":[0.0],\"type\":\"scatter3d\"}],                        {\"height\":700,\"title\":{\"text\":\"Camera Calibration Scene\"},\"width\":900,\"template\":{\"data\":{\"histogram2dcontour\":[{\"type\":\"histogram2dcontour\",\"colorbar\":{\"outlinewidth\":0,\"ticks\":\"\"},\"colorscale\":[[0.0,\"#0d0887\"],[0.1111111111111111,\"#46039f\"],[0.2222222222222222,\"#7201a8\"],[0.3333333333333333,\"#9c179e\"],[0.4444444444444444,\"#bd3786\"],[0.5555555555555556,\"#d8576b\"],[0.6666666666666666,\"#ed7953\"],[0.7777777777777778,\"#fb9f3a\"],[0.8888888888888888,\"#fdca26\"],[1.0,\"#f0f921\"]]}],\"choropleth\":[{\"type\":\"choropleth\",\"colorbar\":{\"outlinewidth\":0,\"ticks\":\"\"}}],\"histogram2d\":[{\"type\":\"histogram2d\",\"colorbar\":{\"outlinewidth\":0,\"ticks\":\"\"},\"colorscale\":[[0.0,\"#0d0887\"],[0.1111111111111111,\"#46039f\"],[0.2222222222222222,\"#7201a8\"],[0.3333333333333333,\"#9c179e\"],[0.4444444444444444,\"#bd3786\"],[0.5555555555555556,\"#d8576b\"],[0.6666666666666666,\"#ed7953\"],[0.7777777777777778,\"#fb9f3a\"],[0.8888888888888888,\"#fdca26\"],[1.0,\"#f0f921\"]]}],\"heatmap\":[{\"type\":\"heatmap\",\"colorbar\":{\"outlinewidth\":0,\"ticks\":\"\"},\"colorscale\":[[0.0,\"#0d0887\"],[0.1111111111111111,\"#46039f\"],[0.2222222222222222,\"#7201a8\"],[0.3333333333333333,\"#9c179e\"],[0.4444444444444444,\"#bd3786\"],[0.5555555555555556,\"#d8576b\"],[0.6666666666666666,\"#ed7953\"],[0.7777777777777778,\"#fb9f3a\"],[0.8888888888888888,\"#fdca26\"],[1.0,\"#f0f921\"]]}],\"heatmapgl\":[{\"type\":\"heatmapgl\",\"colorbar\":{\"outlinewidth\":0,\"ticks\":\"\"},\"colorscale\":[[0.0,\"#0d0887\"],[0.1111111111111111,\"#46039f\"],[0.2222222222222222,\"#7201a8\"],[0.3333333333333333,\"#9c179e\"],[0.4444444444444444,\"#bd3786\"],[0.5555555555555556,\"#d8576b\"],[0.6666666666666666,\"#ed7953\"],[0.7777777777777778,\"#fb9f3a\"],[0.8888888888888888,\"#fdca26\"],[1.0,\"#f0f921\"]]}],\"contourcarpet\":[{\"type\":\"contourcarpet\",\"colorbar\":{\"outlinewidth\":0,\"ticks\":\"\"}}],\"contour\":[{\"type\":\"contour\",\"colorbar\":{\"outlinewidth\":0,\"ticks\":\"\"},\"colorscale\":[[0.0,\"#0d0887\"],[0.1111111111111111,\"#46039f\"],[0.2222222222222222,\"#7201a8\"],[0.3333333333333333,\"#9c179e\"],[0.4444444444444444,\"#bd3786\"],[0.5555555555555556,\"#d8576b\"],[0.6666666666666666,\"#ed7953\"],[0.7777777777777778,\"#fb9f3a\"],[0.8888888888888888,\"#fdca26\"],[1.0,\"#f0f921\"]]}],\"surface\":[{\"type\":\"surface\",\"colorbar\":{\"outlinewidth\":0,\"ticks\":\"\"},\"colorscale\":[[0.0,\"#0d0887\"],[0.1111111111111111,\"#46039f\"],[0.2222222222222222,\"#7201a8\"],[0.3333333333333333,\"#9c179e\"],[0.4444444444444444,\"#bd3786\"],[0.5555555555555556,\"#d8576b\"],[0.6666666666666666,\"#ed7953\"],[0.7777777777777778,\"#fb9f3a\"],[0.8888888888888888,\"#fdca26\"],[1.0,\"#f0f921\"]]}],\"mesh3d\":[{\"type\":\"mesh3d\",\"colorbar\":{\"outlinewidth\":0,\"ticks\":\"\"}}],\"scatter\":[{\"fillpattern\":{\"fillmode\":\"overlay\",\"size\":10,\"solidity\":0.2},\"type\":\"scatter\"}],\"parcoords\":[{\"type\":\"parcoords\",\"line\":{\"colorbar\":{\"outlinewidth\":0,\"ticks\":\"\"}}}],\"scatterpolargl\":[{\"type\":\"scatterpolargl\",\"marker\":{\"colorbar\":{\"outlinewidth\":0,\"ticks\":\"\"}}}],\"bar\":[{\"error_x\":{\"color\":\"#2a3f5f\"},\"error_y\":{\"color\":\"#2a3f5f\"},\"marker\":{\"line\":{\"color\":\"#E5ECF6\",\"width\":0.5},\"pattern\":{\"fillmode\":\"overlay\",\"size\":10,\"solidity\":0.2}},\"type\":\"bar\"}],\"scattergeo\":[{\"type\":\"scattergeo\",\"marker\":{\"colorbar\":{\"outlinewidth\":0,\"ticks\":\"\"}}}],\"scatterpolar\":[{\"type\":\"scatterpolar\",\"marker\":{\"colorbar\":{\"outlinewidth\":0,\"ticks\":\"\"}}}],\"histogram\":[{\"marker\":{\"pattern\":{\"fillmode\":\"overlay\",\"size\":10,\"solidity\":0.2}},\"type\":\"histogram\"}],\"scattergl\":[{\"type\":\"scattergl\",\"marker\":{\"colorbar\":{\"outlinewidth\":0,\"ticks\":\"\"}}}],\"scatter3d\":[{\"type\":\"scatter3d\",\"line\":{\"colorbar\":{\"outlinewidth\":0,\"ticks\":\"\"}},\"marker\":{\"colorbar\":{\"outlinewidth\":0,\"ticks\":\"\"}}}],\"scattermapbox\":[{\"type\":\"scattermapbox\",\"marker\":{\"colorbar\":{\"outlinewidth\":0,\"ticks\":\"\"}}}],\"scatterternary\":[{\"type\":\"scatterternary\",\"marker\":{\"colorbar\":{\"outlinewidth\":0,\"ticks\":\"\"}}}],\"scattercarpet\":[{\"type\":\"scattercarpet\",\"marker\":{\"colorbar\":{\"outlinewidth\":0,\"ticks\":\"\"}}}],\"carpet\":[{\"aaxis\":{\"endlinecolor\":\"#2a3f5f\",\"gridcolor\":\"white\",\"linecolor\":\"white\",\"minorgridcolor\":\"white\",\"startlinecolor\":\"#2a3f5f\"},\"baxis\":{\"endlinecolor\":\"#2a3f5f\",\"gridcolor\":\"white\",\"linecolor\":\"white\",\"minorgridcolor\":\"white\",\"startlinecolor\":\"#2a3f5f\"},\"type\":\"carpet\"}],\"table\":[{\"cells\":{\"fill\":{\"color\":\"#EBF0F8\"},\"line\":{\"color\":\"white\"}},\"header\":{\"fill\":{\"color\":\"#C8D4E3\"},\"line\":{\"color\":\"white\"}},\"type\":\"table\"}],\"barpolar\":[{\"marker\":{\"line\":{\"color\":\"#E5ECF6\",\"width\":0.5},\"pattern\":{\"fillmode\":\"overlay\",\"size\":10,\"solidity\":0.2}},\"type\":\"barpolar\"}],\"pie\":[{\"automargin\":true,\"type\":\"pie\"}]},\"layout\":{\"autotypenumbers\":\"strict\",\"colorway\":[\"#636efa\",\"#EF553B\",\"#00cc96\",\"#ab63fa\",\"#FFA15A\",\"#19d3f3\",\"#FF6692\",\"#B6E880\",\"#FF97FF\",\"#FECB52\"],\"font\":{\"color\":\"#2a3f5f\"},\"hovermode\":\"closest\",\"hoverlabel\":{\"align\":\"left\"},\"paper_bgcolor\":\"white\",\"plot_bgcolor\":\"#E5ECF6\",\"polar\":{\"bgcolor\":\"#E5ECF6\",\"angularaxis\":{\"gridcolor\":\"white\",\"linecolor\":\"white\",\"ticks\":\"\"},\"radialaxis\":{\"gridcolor\":\"white\",\"linecolor\":\"white\",\"ticks\":\"\"}},\"ternary\":{\"bgcolor\":\"#E5ECF6\",\"aaxis\":{\"gridcolor\":\"white\",\"linecolor\":\"white\",\"ticks\":\"\"},\"baxis\":{\"gridcolor\":\"white\",\"linecolor\":\"white\",\"ticks\":\"\"},\"caxis\":{\"gridcolor\":\"white\",\"linecolor\":\"white\",\"ticks\":\"\"}},\"coloraxis\":{\"colorbar\":{\"outlinewidth\":0,\"ticks\":\"\"}},\"colorscale\":{\"sequential\":[[0.0,\"#0d0887\"],[0.1111111111111111,\"#46039f\"],[0.2222222222222222,\"#7201a8\"],[0.3333333333333333,\"#9c179e\"],[0.4444444444444444,\"#bd3786\"],[0.5555555555555556,\"#d8576b\"],[0.6666666666666666,\"#ed7953\"],[0.7777777777777778,\"#fb9f3a\"],[0.8888888888888888,\"#fdca26\"],[1.0,\"#f0f921\"]],\"sequentialminus\":[[0.0,\"#0d0887\"],[0.1111111111111111,\"#46039f\"],[0.2222222222222222,\"#7201a8\"],[0.3333333333333333,\"#9c179e\"],[0.4444444444444444,\"#bd3786\"],[0.5555555555555556,\"#d8576b\"],[0.6666666666666666,\"#ed7953\"],[0.7777777777777778,\"#fb9f3a\"],[0.8888888888888888,\"#fdca26\"],[1.0,\"#f0f921\"]],\"diverging\":[[0,\"#8e0152\"],[0.1,\"#c51b7d\"],[0.2,\"#de77ae\"],[0.3,\"#f1b6da\"],[0.4,\"#fde0ef\"],[0.5,\"#f7f7f7\"],[0.6,\"#e6f5d0\"],[0.7,\"#b8e186\"],[0.8,\"#7fbc41\"],[0.9,\"#4d9221\"],[1,\"#276419\"]]},\"xaxis\":{\"gridcolor\":\"white\",\"linecolor\":\"white\",\"ticks\":\"\",\"title\":{\"standoff\":15},\"zerolinecolor\":\"white\",\"automargin\":true,\"zerolinewidth\":2},\"yaxis\":{\"gridcolor\":\"white\",\"linecolor\":\"white\",\"ticks\":\"\",\"title\":{\"standoff\":15},\"zerolinecolor\":\"white\",\"automargin\":true,\"zerolinewidth\":2},\"scene\":{\"xaxis\":{\"backgroundcolor\":\"#E5ECF6\",\"gridcolor\":\"white\",\"linecolor\":\"white\",\"showbackground\":true,\"ticks\":\"\",\"zerolinecolor\":\"white\",\"gridwidth\":2},\"yaxis\":{\"backgroundcolor\":\"#E5ECF6\",\"gridcolor\":\"white\",\"linecolor\":\"white\",\"showbackground\":true,\"ticks\":\"\",\"zerolinecolor\":\"white\",\"gridwidth\":2},\"zaxis\":{\"backgroundcolor\":\"#E5ECF6\",\"gridcolor\":\"white\",\"linecolor\":\"white\",\"showbackground\":true,\"ticks\":\"\",\"zerolinecolor\":\"white\",\"gridwidth\":2}},\"shapedefaults\":{\"line\":{\"color\":\"#2a3f5f\"}},\"annotationdefaults\":{\"arrowcolor\":\"#2a3f5f\",\"arrowhead\":0,\"arrowwidth\":1},\"geo\":{\"bgcolor\":\"white\",\"landcolor\":\"#E5ECF6\",\"subunitcolor\":\"white\",\"showland\":true,\"showlakes\":true,\"lakecolor\":\"white\"},\"title\":{\"x\":0.05},\"mapbox\":{\"style\":\"light\"}}},\"scene\":{\"xaxis\":{\"title\":{\"text\":\"\"},\"range\":[-700,700],\"showbackground\":false,\"showticklabels\":false,\"showaxeslabels\":false,\"showgrid\":false,\"showspikes\":false},\"yaxis\":{\"title\":{\"text\":\"\"},\"range\":[-700,700],\"showbackground\":false,\"showticklabels\":false,\"showaxeslabels\":false,\"showgrid\":false,\"showspikes\":false},\"zaxis\":{\"title\":{\"text\":\"\"},\"range\":[-700,700],\"showbackground\":false,\"showticklabels\":false,\"showaxeslabels\":false,\"showgrid\":false,\"showspikes\":false},\"aspectmode\":\"cube\",\"camera\":{\"projection\":{\"type\":\"orthographic\"}}}},                        {\"responsive\": true}                    ).then(function(){\n",
       "                            \n",
       "var gd = document.getElementById('16352fcb-7a6a-4078-9915-315eb32070f8');\n",
       "var x = new MutationObserver(function (mutations, observer) {{\n",
       "        var display = window.getComputedStyle(gd).display;\n",
       "        if (!display || display === 'none') {{\n",
       "            console.log([gd, 'removed!']);\n",
       "            Plotly.purge(gd);\n",
       "            observer.disconnect();\n",
       "        }}\n",
       "}});\n",
       "\n",
       "// Listen for the removal of the full notebook cells\n",
       "var notebookContainer = gd.closest('#notebook-container');\n",
       "if (notebookContainer) {{\n",
       "    x.observe(notebookContainer, {childList: true});\n",
       "}}\n",
       "\n",
       "// Listen for the clearing of the current output cell\n",
       "var outputEl = gd.closest('.output');\n",
       "if (outputEl) {{\n",
       "    x.observe(outputEl, {childList: true});\n",
       "}}\n",
       "\n",
       "                        })                };                });            </script>        </div>"
      ]
     },
     "metadata": {},
     "output_type": "display_data"
    },
    {
     "data": {
      "text/html": [
       "        <script type=\"text/javascript\">\n",
       "        window.PlotlyConfig = {MathJaxConfig: 'local'};\n",
       "        if (window.MathJax && window.MathJax.Hub && window.MathJax.Hub.Config) {window.MathJax.Hub.Config({SVG: {font: \"STIX-Web\"}});}\n",
       "        if (typeof require !== 'undefined') {\n",
       "        require.undef(\"plotly\");\n",
       "        requirejs.config({\n",
       "            paths: {\n",
       "                'plotly': ['https://cdn.plot.ly/plotly-2.27.0.min']\n",
       "            }\n",
       "        });\n",
       "        require(['plotly'], function(Plotly) {\n",
       "            window._Plotly = Plotly;\n",
       "        });\n",
       "        }\n",
       "        </script>\n",
       "        "
      ]
     },
     "metadata": {},
     "output_type": "display_data"
    },
    {
     "data": {
      "text/html": [
       "<div>                            <div id=\"b99c4df2-1fec-4756-8bf5-a9b686404488\" class=\"plotly-graph-div\" style=\"height:700px; width:900px;\"></div>            <script type=\"text/javascript\">                require([\"plotly\"], function(Plotly) {                    window.PLOTLYENV=window.PLOTLYENV || {};                                    if (document.getElementById(\"b99c4df2-1fec-4756-8bf5-a9b686404488\")) {                    Plotly.newPlot(                        \"b99c4df2-1fec-4756-8bf5-a9b686404488\",                        [{\"legendgroup\":\"Points\",\"legendgrouptitle\":{\"text\":\"Points\"},\"marker\":{\"color\":\"red\",\"opacity\":0.8,\"size\":7},\"mode\":\"markers\",\"name\":\"Image Point\",\"showlegend\":true,\"x\":[156.8615612366939],\"y\":[364.70765814495917],\"type\":\"scatter\"}],                        {\"height\":700,\"title\":{\"text\":\"Camera Image\"},\"width\":900,\"template\":{\"data\":{\"histogram2dcontour\":[{\"type\":\"histogram2dcontour\",\"colorbar\":{\"outlinewidth\":0,\"ticks\":\"\"},\"colorscale\":[[0.0,\"#0d0887\"],[0.1111111111111111,\"#46039f\"],[0.2222222222222222,\"#7201a8\"],[0.3333333333333333,\"#9c179e\"],[0.4444444444444444,\"#bd3786\"],[0.5555555555555556,\"#d8576b\"],[0.6666666666666666,\"#ed7953\"],[0.7777777777777778,\"#fb9f3a\"],[0.8888888888888888,\"#fdca26\"],[1.0,\"#f0f921\"]]}],\"choropleth\":[{\"type\":\"choropleth\",\"colorbar\":{\"outlinewidth\":0,\"ticks\":\"\"}}],\"histogram2d\":[{\"type\":\"histogram2d\",\"colorbar\":{\"outlinewidth\":0,\"ticks\":\"\"},\"colorscale\":[[0.0,\"#0d0887\"],[0.1111111111111111,\"#46039f\"],[0.2222222222222222,\"#7201a8\"],[0.3333333333333333,\"#9c179e\"],[0.4444444444444444,\"#bd3786\"],[0.5555555555555556,\"#d8576b\"],[0.6666666666666666,\"#ed7953\"],[0.7777777777777778,\"#fb9f3a\"],[0.8888888888888888,\"#fdca26\"],[1.0,\"#f0f921\"]]}],\"heatmap\":[{\"type\":\"heatmap\",\"colorbar\":{\"outlinewidth\":0,\"ticks\":\"\"},\"colorscale\":[[0.0,\"#0d0887\"],[0.1111111111111111,\"#46039f\"],[0.2222222222222222,\"#7201a8\"],[0.3333333333333333,\"#9c179e\"],[0.4444444444444444,\"#bd3786\"],[0.5555555555555556,\"#d8576b\"],[0.6666666666666666,\"#ed7953\"],[0.7777777777777778,\"#fb9f3a\"],[0.8888888888888888,\"#fdca26\"],[1.0,\"#f0f921\"]]}],\"heatmapgl\":[{\"type\":\"heatmapgl\",\"colorbar\":{\"outlinewidth\":0,\"ticks\":\"\"},\"colorscale\":[[0.0,\"#0d0887\"],[0.1111111111111111,\"#46039f\"],[0.2222222222222222,\"#7201a8\"],[0.3333333333333333,\"#9c179e\"],[0.4444444444444444,\"#bd3786\"],[0.5555555555555556,\"#d8576b\"],[0.6666666666666666,\"#ed7953\"],[0.7777777777777778,\"#fb9f3a\"],[0.8888888888888888,\"#fdca26\"],[1.0,\"#f0f921\"]]}],\"contourcarpet\":[{\"type\":\"contourcarpet\",\"colorbar\":{\"outlinewidth\":0,\"ticks\":\"\"}}],\"contour\":[{\"type\":\"contour\",\"colorbar\":{\"outlinewidth\":0,\"ticks\":\"\"},\"colorscale\":[[0.0,\"#0d0887\"],[0.1111111111111111,\"#46039f\"],[0.2222222222222222,\"#7201a8\"],[0.3333333333333333,\"#9c179e\"],[0.4444444444444444,\"#bd3786\"],[0.5555555555555556,\"#d8576b\"],[0.6666666666666666,\"#ed7953\"],[0.7777777777777778,\"#fb9f3a\"],[0.8888888888888888,\"#fdca26\"],[1.0,\"#f0f921\"]]}],\"surface\":[{\"type\":\"surface\",\"colorbar\":{\"outlinewidth\":0,\"ticks\":\"\"},\"colorscale\":[[0.0,\"#0d0887\"],[0.1111111111111111,\"#46039f\"],[0.2222222222222222,\"#7201a8\"],[0.3333333333333333,\"#9c179e\"],[0.4444444444444444,\"#bd3786\"],[0.5555555555555556,\"#d8576b\"],[0.6666666666666666,\"#ed7953\"],[0.7777777777777778,\"#fb9f3a\"],[0.8888888888888888,\"#fdca26\"],[1.0,\"#f0f921\"]]}],\"mesh3d\":[{\"type\":\"mesh3d\",\"colorbar\":{\"outlinewidth\":0,\"ticks\":\"\"}}],\"scatter\":[{\"fillpattern\":{\"fillmode\":\"overlay\",\"size\":10,\"solidity\":0.2},\"type\":\"scatter\"}],\"parcoords\":[{\"type\":\"parcoords\",\"line\":{\"colorbar\":{\"outlinewidth\":0,\"ticks\":\"\"}}}],\"scatterpolargl\":[{\"type\":\"scatterpolargl\",\"marker\":{\"colorbar\":{\"outlinewidth\":0,\"ticks\":\"\"}}}],\"bar\":[{\"error_x\":{\"color\":\"#2a3f5f\"},\"error_y\":{\"color\":\"#2a3f5f\"},\"marker\":{\"line\":{\"color\":\"#E5ECF6\",\"width\":0.5},\"pattern\":{\"fillmode\":\"overlay\",\"size\":10,\"solidity\":0.2}},\"type\":\"bar\"}],\"scattergeo\":[{\"type\":\"scattergeo\",\"marker\":{\"colorbar\":{\"outlinewidth\":0,\"ticks\":\"\"}}}],\"scatterpolar\":[{\"type\":\"scatterpolar\",\"marker\":{\"colorbar\":{\"outlinewidth\":0,\"ticks\":\"\"}}}],\"histogram\":[{\"marker\":{\"pattern\":{\"fillmode\":\"overlay\",\"size\":10,\"solidity\":0.2}},\"type\":\"histogram\"}],\"scattergl\":[{\"type\":\"scattergl\",\"marker\":{\"colorbar\":{\"outlinewidth\":0,\"ticks\":\"\"}}}],\"scatter3d\":[{\"type\":\"scatter3d\",\"line\":{\"colorbar\":{\"outlinewidth\":0,\"ticks\":\"\"}},\"marker\":{\"colorbar\":{\"outlinewidth\":0,\"ticks\":\"\"}}}],\"scattermapbox\":[{\"type\":\"scattermapbox\",\"marker\":{\"colorbar\":{\"outlinewidth\":0,\"ticks\":\"\"}}}],\"scatterternary\":[{\"type\":\"scatterternary\",\"marker\":{\"colorbar\":{\"outlinewidth\":0,\"ticks\":\"\"}}}],\"scattercarpet\":[{\"type\":\"scattercarpet\",\"marker\":{\"colorbar\":{\"outlinewidth\":0,\"ticks\":\"\"}}}],\"carpet\":[{\"aaxis\":{\"endlinecolor\":\"#2a3f5f\",\"gridcolor\":\"white\",\"linecolor\":\"white\",\"minorgridcolor\":\"white\",\"startlinecolor\":\"#2a3f5f\"},\"baxis\":{\"endlinecolor\":\"#2a3f5f\",\"gridcolor\":\"white\",\"linecolor\":\"white\",\"minorgridcolor\":\"white\",\"startlinecolor\":\"#2a3f5f\"},\"type\":\"carpet\"}],\"table\":[{\"cells\":{\"fill\":{\"color\":\"#EBF0F8\"},\"line\":{\"color\":\"white\"}},\"header\":{\"fill\":{\"color\":\"#C8D4E3\"},\"line\":{\"color\":\"white\"}},\"type\":\"table\"}],\"barpolar\":[{\"marker\":{\"line\":{\"color\":\"#E5ECF6\",\"width\":0.5},\"pattern\":{\"fillmode\":\"overlay\",\"size\":10,\"solidity\":0.2}},\"type\":\"barpolar\"}],\"pie\":[{\"automargin\":true,\"type\":\"pie\"}]},\"layout\":{\"autotypenumbers\":\"strict\",\"colorway\":[\"#636efa\",\"#EF553B\",\"#00cc96\",\"#ab63fa\",\"#FFA15A\",\"#19d3f3\",\"#FF6692\",\"#B6E880\",\"#FF97FF\",\"#FECB52\"],\"font\":{\"color\":\"#2a3f5f\"},\"hovermode\":\"closest\",\"hoverlabel\":{\"align\":\"left\"},\"paper_bgcolor\":\"white\",\"plot_bgcolor\":\"#E5ECF6\",\"polar\":{\"bgcolor\":\"#E5ECF6\",\"angularaxis\":{\"gridcolor\":\"white\",\"linecolor\":\"white\",\"ticks\":\"\"},\"radialaxis\":{\"gridcolor\":\"white\",\"linecolor\":\"white\",\"ticks\":\"\"}},\"ternary\":{\"bgcolor\":\"#E5ECF6\",\"aaxis\":{\"gridcolor\":\"white\",\"linecolor\":\"white\",\"ticks\":\"\"},\"baxis\":{\"gridcolor\":\"white\",\"linecolor\":\"white\",\"ticks\":\"\"},\"caxis\":{\"gridcolor\":\"white\",\"linecolor\":\"white\",\"ticks\":\"\"}},\"coloraxis\":{\"colorbar\":{\"outlinewidth\":0,\"ticks\":\"\"}},\"colorscale\":{\"sequential\":[[0.0,\"#0d0887\"],[0.1111111111111111,\"#46039f\"],[0.2222222222222222,\"#7201a8\"],[0.3333333333333333,\"#9c179e\"],[0.4444444444444444,\"#bd3786\"],[0.5555555555555556,\"#d8576b\"],[0.6666666666666666,\"#ed7953\"],[0.7777777777777778,\"#fb9f3a\"],[0.8888888888888888,\"#fdca26\"],[1.0,\"#f0f921\"]],\"sequentialminus\":[[0.0,\"#0d0887\"],[0.1111111111111111,\"#46039f\"],[0.2222222222222222,\"#7201a8\"],[0.3333333333333333,\"#9c179e\"],[0.4444444444444444,\"#bd3786\"],[0.5555555555555556,\"#d8576b\"],[0.6666666666666666,\"#ed7953\"],[0.7777777777777778,\"#fb9f3a\"],[0.8888888888888888,\"#fdca26\"],[1.0,\"#f0f921\"]],\"diverging\":[[0,\"#8e0152\"],[0.1,\"#c51b7d\"],[0.2,\"#de77ae\"],[0.3,\"#f1b6da\"],[0.4,\"#fde0ef\"],[0.5,\"#f7f7f7\"],[0.6,\"#e6f5d0\"],[0.7,\"#b8e186\"],[0.8,\"#7fbc41\"],[0.9,\"#4d9221\"],[1,\"#276419\"]]},\"xaxis\":{\"gridcolor\":\"white\",\"linecolor\":\"white\",\"ticks\":\"\",\"title\":{\"standoff\":15},\"zerolinecolor\":\"white\",\"automargin\":true,\"zerolinewidth\":2},\"yaxis\":{\"gridcolor\":\"white\",\"linecolor\":\"white\",\"ticks\":\"\",\"title\":{\"standoff\":15},\"zerolinecolor\":\"white\",\"automargin\":true,\"zerolinewidth\":2},\"scene\":{\"xaxis\":{\"backgroundcolor\":\"#E5ECF6\",\"gridcolor\":\"white\",\"linecolor\":\"white\",\"showbackground\":true,\"ticks\":\"\",\"zerolinecolor\":\"white\",\"gridwidth\":2},\"yaxis\":{\"backgroundcolor\":\"#E5ECF6\",\"gridcolor\":\"white\",\"linecolor\":\"white\",\"showbackground\":true,\"ticks\":\"\",\"zerolinecolor\":\"white\",\"gridwidth\":2},\"zaxis\":{\"backgroundcolor\":\"#E5ECF6\",\"gridcolor\":\"white\",\"linecolor\":\"white\",\"showbackground\":true,\"ticks\":\"\",\"zerolinecolor\":\"white\",\"gridwidth\":2}},\"shapedefaults\":{\"line\":{\"color\":\"#2a3f5f\"}},\"annotationdefaults\":{\"arrowcolor\":\"#2a3f5f\",\"arrowhead\":0,\"arrowwidth\":1},\"geo\":{\"bgcolor\":\"white\",\"landcolor\":\"#E5ECF6\",\"subunitcolor\":\"white\",\"showland\":true,\"showlakes\":true,\"lakecolor\":\"white\"},\"title\":{\"x\":0.05},\"mapbox\":{\"style\":\"light\"}}},\"font\":{\"family\":\"Arial\",\"size\":15,\"color\":\"black\"},\"xaxis\":{\"title\":{\"text\":\"x\"},\"gridcolor\":\"lightgray\",\"dtick\":48.0,\"range\":[0,480]},\"yaxis\":{\"title\":{\"text\":\"y\"},\"gridcolor\":\"lightgray\",\"dtick\":48.0,\"range\":[480,0]},\"plot_bgcolor\":\"white\"},                        {\"responsive\": true}                    ).then(function(){\n",
       "                            \n",
       "var gd = document.getElementById('b99c4df2-1fec-4756-8bf5-a9b686404488');\n",
       "var x = new MutationObserver(function (mutations, observer) {{\n",
       "        var display = window.getComputedStyle(gd).display;\n",
       "        if (!display || display === 'none') {{\n",
       "            console.log([gd, 'removed!']);\n",
       "            Plotly.purge(gd);\n",
       "            observer.disconnect();\n",
       "        }}\n",
       "}});\n",
       "\n",
       "// Listen for the removal of the full notebook cells\n",
       "var notebookContainer = gd.closest('#notebook-container');\n",
       "if (notebookContainer) {{\n",
       "    x.observe(notebookContainer, {childList: true});\n",
       "}}\n",
       "\n",
       "// Listen for the clearing of the current output cell\n",
       "var outputEl = gd.closest('.output');\n",
       "if (outputEl) {{\n",
       "    x.observe(outputEl, {childList: true});\n",
       "}}\n",
       "\n",
       "                        })                };                });            </script>        </div>"
      ]
     },
     "metadata": {},
     "output_type": "display_data"
    },
    {
     "name": "stdout",
     "output_type": "stream",
     "text": [
      "Projected Points Pixel Coordinates:\n",
      "[[156.86156124]\n",
      " [364.70765814]]\n"
     ]
    }
   ],
   "source": [
    "# Create the scene viewer\n",
    "scene = Viewer('Camera Calibration Scene', size = 700)\n",
    "\n",
    "cameraFrame = Frame()\n",
    "\n",
    "# Test other camera positions\n",
    "cameraExtrinsics = join_homo(cameraFrame.R, cameraFrame.t)\n",
    "\n",
    "res = (480, 480) # Test new resolutions\n",
    "FOV = (60/180) * np.pi # Test other FOVs\n",
    "\n",
    "f_x = res[0]/(2*np.tan(FOV/2))\n",
    "f_y = res[1]/(2*np.tan(FOV/2))\n",
    "\n",
    "o_x = res[0]/2\n",
    "o_y = res[1]/2\n",
    "\n",
    "cameraIntrinsics = np.array([[f_x,   0, o_x, 0],\n",
    "                             [  0, f_y, o_y, 0],\n",
    "                             [  0,   0,   1, 0]])\n",
    "\n",
    "# Add the camera frame to the scene\n",
    "scene.add_frame(cameraFrame, 'Camera Frame', axis_size=100) # Make axis visible\n",
    "\n",
    "# Add the random points \n",
    "interestPoint = np.array([-0.2, 0.3, 1]).reshape(-1,1) # Test for more than 1 point\n",
    "scene.add_points(interestPoint, 'World Point', 'black')\n",
    "\n",
    "# Add the camera plane to the scene\n",
    "imagePlane = np.array([[0, res[0], 0, res[0]],\n",
    "                       [0, 0, res[1], res[1]],\n",
    "                       [0, 0, 0, 0]]) \n",
    "imagePlane = cameraFrame.R @ imagePlane\n",
    "scene.add_plane(imagePlane, name='Image Plane', color='lightsteelblue')\n",
    "\n",
    "projectedPoint = cameraIntrinsics @ cameraExtrinsics @ to_homo(interestPoint) \n",
    "projectedPoint = projectedPoint / projectedPoint[-1][0] # Normalize\n",
    "projectedPoint[-1] = 0 # Last row is on the XY plane\n",
    "\n",
    "scene.add_points(projectedPoint, 'Image Point', 'red')\n",
    "\n",
    "# View the scene\n",
    "scene.figure.show(renderer='notebook_connected')\n",
    "\n",
    "image = Feed('Camera Image', res, graphical=True)\n",
    "\n",
    "projectedPoint = projectedPoint[:-1, :]\n",
    "image.add_points(projectedPoint, 'Image Point', 'red')\n",
    "\n",
    "image.figure.show(renderer='notebook_connected')\n",
    "\n",
    "# Print Results (Compare with simulation!)\n",
    "print('Projected Points Pixel Coordinates:')\n",
    "print(projectedPoint)"
   ]
  },
  {
   "cell_type": "markdown",
   "metadata": {},
   "source": [
    "# Coppelia Enviroment"
   ]
  },
  {
   "cell_type": "code",
   "execution_count": 6,
   "metadata": {},
   "outputs": [
    {
     "data": {
      "image/png": "[encoded data removed]",
      "text/plain": [
       "<Figure size 640x480 with 1 Axes>"
      ]
     },
     "metadata": {},
     "output_type": "display_data"
    },
    {
     "name": "stdout",
     "output_type": "stream",
     "text": [
      "Projected Points Pixel Coordinates:\n",
      "[[156]\n",
      " [364]]\n"
     ]
    }
   ],
   "source": [
    "client = RemoteAPIClient()\n",
    "sim = client.getObject('sim')\n",
    "\n",
    "# Get the vision sensor handle\n",
    "visionSensorHandle = sim.getObject('/Vision_sensor') # Test automated Coppelia Vision Sensor\n",
    "\n",
    "# When simulation is not running, ZMQ message handling could be a bit\n",
    "# slow, since the idle loop runs at 8 Hz by default. So let's make\n",
    "# sure that the idle loop runs at full speed for this program:\n",
    "defaultIdleFps = sim.getInt32Param(sim.intparam_idle_fps)   \n",
    "sim.setInt32Param(sim.intparam_idle_fps, 0)\n",
    "\n",
    "# Run a simulation in stepping mode:\n",
    "sim.startSimulation()\n",
    "\n",
    "markersPointCloud = sim.createPointCloud(1, 1, 8, 3)\n",
    "markersColor = list([255,255,255]) \n",
    "\n",
    "# Insert points into point cloud\n",
    "points = np.concatenate(interestPoint)\n",
    "\n",
    "totalPointCnt = sim.insertPointsIntoPointCloud(markersPointCloud, 0, points, markersColor)\n",
    "\n",
    "coppeliaCentroids = []\n",
    "img = []\n",
    "\n",
    "# Other blob detection method\n",
    "while (t := sim.getSimulationTime()) < 1:\n",
    "    img, resX, resY = sim.getVisionSensorCharImage(visionSensorHandle)\n",
    "    img = np.frombuffer(img, dtype=np.uint8).reshape(resY, resX, 3)\n",
    "\n",
    "    # In CoppeliaSim images are left to right (x-axis), and bottom to top (y-axis)\n",
    "    # (consistent with the axes of vision sensors, pointing Z outwards, Y up)\n",
    "    # and color format is RGB triplets, whereas OpenCV uses BGR:\n",
    "    img = cv2.flip(cv2.cvtColor(img, cv2.COLOR_BGR2RGB), 1)\n",
    "    \n",
    "    gray_image = cv2.cvtColor(img, cv2.COLOR_BGR2GRAY)\n",
    "\n",
    "    # Convert the grayscale image to binary image\n",
    "    _,thresh = cv2.threshold(gray_image,127,255,0)\n",
    "    \n",
    "    # Calculate moments of binary image\n",
    "    M = cv2.moments(thresh)\n",
    "    \n",
    "    # Calculate x,y coordinate of center\n",
    "    if M[\"m00\"] != 0:\n",
    "        cX = int(M[\"m10\"] / M[\"m00\"])\n",
    "        cY = int(M[\"m01\"] / M[\"m00\"])\n",
    "    else:\n",
    "        print('No point was detected!')\n",
    "        break\n",
    "\n",
    "    coppeliaCentroids = np.array([cX, cY]).reshape(-1,1)\n",
    "\n",
    "# Restore the original idle loop frequency:\n",
    "sim.setInt32Param(sim.intparam_idle_fps, defaultIdleFps)\n",
    "\n",
    "sim.stopSimulation()\n",
    "\n",
    "# Display the image\n",
    "plt.imshow(img)\n",
    "plt.title('Coppelia Viewer')\n",
    "plt.show()\n",
    "\n",
    "# Print Results (Compare with math model!)\n",
    "print('Projected Points Pixel Coordinates:')\n",
    "print(coppeliaCentroids)\n"
   ]
  },
  {
   "cell_type": "markdown",
   "metadata": {},
   "source": [
    "### 4° See the image points projections with the ground truth matrix"
   ]
  },
  {
   "cell_type": "code",
   "execution_count": 7,
   "metadata": {},
   "outputs": [
    {
     "data": {
      "text/plain": [
       "'def plot_image_points(image_points):\\n    \"\"\"\\n    Plot the 2D image points\\n\\n    Parameters\\n    ----------\\n    image_points: Array of 2D projected image points.\\n    \"\"\"\\n\\n    if image_points.shape[1] != 2:\\n        image_points = image_points.reshape(-1,2)\\n    plt.figure(figsize=(8, 6))\\n    plt.scatter(image_points[:, 0], image_points[:, 1], c=\\'b\\', marker=\\'o\\', label=\\'Pontos Projetados\\')\\n    plt.xlabel(\\'Coordenada X na Imagem\\')\\n    plt.ylabel(\\'Coordenada Y na Imagem\\')\\n    plt.title(\\'Pontos 2D Projetados na Imagem\\')\\n    plt.grid()\\n    plt.legend()\\n    plt.show()'"
      ]
     },
     "execution_count": 7,
     "metadata": {},
     "output_type": "execute_result"
    }
   ],
   "source": [
    "'''def plot_image_points(image_points):\n",
    "    \"\"\"\n",
    "    Plot the 2D image points\n",
    "\n",
    "    Parameters\n",
    "    ----------\n",
    "    image_points: Array of 2D projected image points.\n",
    "    \"\"\"\n",
    "\n",
    "    if image_points.shape[1] != 2:\n",
    "        image_points = image_points.reshape(-1,2)\n",
    "    plt.figure(figsize=(8, 6))\n",
    "    plt.scatter(image_points[:, 0], image_points[:, 1], c='b', marker='o', label='Pontos Projetados')\n",
    "    plt.xlabel('Coordenada X na Imagem')\n",
    "    plt.ylabel('Coordenada Y na Imagem')\n",
    "    plt.title('Pontos 2D Projetados na Imagem')\n",
    "    plt.grid()\n",
    "    plt.legend()\n",
    "    plt.show()'''"
   ]
  },
  {
   "cell_type": "code",
   "execution_count": 8,
   "metadata": {},
   "outputs": [
    {
     "data": {
      "text/plain": [
       "'image_points_cv2 = projectPoints(cube(),rotation_matrix,translation_vector,camera_intrinsics,None)[0]\\n\\nplot_image_points(image_points=image_points_cv2)\\n\\nimage_points_cv2'"
      ]
     },
     "execution_count": 8,
     "metadata": {},
     "output_type": "execute_result"
    }
   ],
   "source": [
    "'''image_points_cv2 = projectPoints(cube(),rotation_matrix,translation_vector,camera_intrinsics,None)[0]\n",
    "\n",
    "plot_image_points(image_points=image_points_cv2)\n",
    "\n",
    "image_points_cv2'''"
   ]
  },
  {
   "cell_type": "code",
   "execution_count": 9,
   "metadata": {},
   "outputs": [
    {
     "data": {
      "text/plain": [
       "'# Compare projectPoints with my implementation\\n\\nimage_points = project_points(camera_intrinsics,transformation_matrix,cube())\\nimage_points.T'"
      ]
     },
     "execution_count": 9,
     "metadata": {},
     "output_type": "execute_result"
    }
   ],
   "source": [
    "'''# Compare projectPoints with my implementation\n",
    "\n",
    "image_points = project_points(camera_intrinsics,transformation_matrix,cube())\n",
    "image_points.T'''"
   ]
  },
  {
   "cell_type": "markdown",
   "metadata": {},
   "source": [
    "## 5° Calibrate your camera with DLT"
   ]
  },
  {
   "cell_type": "code",
   "execution_count": 10,
   "metadata": {},
   "outputs": [
    {
     "data": {
      "text/plain": [
       "'# Find the camera matrix [ndarray (3,4)] by computing DLT\\ndlt_camera_matrix = calibrate_camera(cube().T, image_points.T)\\n\\n# Find K,R and t by RQ factorization\\nestimated_intrinsic, estimated_r_matrix, estimated_t_vector = extract_camera_parameters(dlt_camera_matrix)\\n\\n# Create the estimated extrinsic matrix \\nestimated_extrinsic = join_homo(estimated_r_matrix,estimated_t_vector.reshape(-1,1))\\nestimated_extrinsic = estimated_extrinsic[:-1,:]\\n\\n# Project the world points using the estimated parameters\\n\\nestimated_image_points = project_points(estimated_intrinsic,estimated_extrinsic,cube())\\n\\nestimated_image_points\\nplot_image_points(estimated_image_points)\\ncube().shape[1]'"
      ]
     },
     "execution_count": 10,
     "metadata": {},
     "output_type": "execute_result"
    }
   ],
   "source": [
    "'''# Find the camera matrix [ndarray (3,4)] by computing DLT\n",
    "dlt_camera_matrix = calibrate_camera(cube().T, image_points.T)\n",
    "\n",
    "# Find K,R and t by RQ factorization\n",
    "estimated_intrinsic, estimated_r_matrix, estimated_t_vector = extract_camera_parameters(dlt_camera_matrix)\n",
    "\n",
    "# Create the estimated extrinsic matrix \n",
    "estimated_extrinsic = join_homo(estimated_r_matrix,estimated_t_vector.reshape(-1,1))\n",
    "estimated_extrinsic = estimated_extrinsic[:-1,:]\n",
    "\n",
    "# Project the world points using the estimated parameters\n",
    "\n",
    "estimated_image_points = project_points(estimated_intrinsic,estimated_extrinsic,cube())\n",
    "\n",
    "estimated_image_points\n",
    "plot_image_points(estimated_image_points)\n",
    "cube().shape[1]'''"
   ]
  },
  {
   "cell_type": "code",
   "execution_count": 11,
   "metadata": {},
   "outputs": [
    {
     "data": {
      "text/plain": [
       "'# Find the camera matrix [ndarray (3,4)] by computing DLT\\ndlt_camera_matrix = calibrate_camera(cube().T, image_points.T)\\n\\n# Find K,R and t by RQ factorization\\nestimated_intrinsic, estimated_r_matrix, estimated_t_vector = extract_camera_parameters(dlt_camera_matrix)\\n\\n# Create the estimated extrinsic matrix \\nestimated_extrinsic = join_homo(estimated_r_matrix,estimated_t_vector.reshape(-1,1))\\nestimated_extrinsic = estimated_extrinsic[:-1,:]\\n\\n# Project the world points using the estimated parameters\\n\\nestimated_image_points = project_points(estimated_intrinsic,estimated_extrinsic,cube())\\n\\nfig = plt.figure(figsize=(8, 6))\\nax = fig.add_subplot(111)\\n\\nfor i in range(cube().shape[1]):\\n    if i == 0:\\n        o_label = \"groundtruth\"\\n        g_label = \"predictions\"\\n    else:\\n        o_label = \"\"\\n        g_label = \"\"\\n        \\n    ax.scatter(*image_points.reshape(-1, 2)[i], color=\"orange\", alpha=0.75, label=o_label)\\n    ax.scatter(*estimated_image_points.reshape(-1, 2)[i], color=\"green\", alpha=0.75, label=g_label)\\n    \\nax.set_title(\"groundtruth vs predictions - direct linear calibration\")\\nax.legend()'"
      ]
     },
     "execution_count": 11,
     "metadata": {},
     "output_type": "execute_result"
    }
   ],
   "source": [
    "'''# Find the camera matrix [ndarray (3,4)] by computing DLT\n",
    "dlt_camera_matrix = calibrate_camera(cube().T, image_points.T)\n",
    "\n",
    "# Find K,R and t by RQ factorization\n",
    "estimated_intrinsic, estimated_r_matrix, estimated_t_vector = extract_camera_parameters(dlt_camera_matrix)\n",
    "\n",
    "# Create the estimated extrinsic matrix \n",
    "estimated_extrinsic = join_homo(estimated_r_matrix,estimated_t_vector.reshape(-1,1))\n",
    "estimated_extrinsic = estimated_extrinsic[:-1,:]\n",
    "\n",
    "# Project the world points using the estimated parameters\n",
    "\n",
    "estimated_image_points = project_points(estimated_intrinsic,estimated_extrinsic,cube())\n",
    "\n",
    "fig = plt.figure(figsize=(8, 6))\n",
    "ax = fig.add_subplot(111)\n",
    "\n",
    "for i in range(cube().shape[1]):\n",
    "    if i == 0:\n",
    "        o_label = \"groundtruth\"\n",
    "        g_label = \"predictions\"\n",
    "    else:\n",
    "        o_label = \"\"\n",
    "        g_label = \"\"\n",
    "        \n",
    "    ax.scatter(*image_points.reshape(-1, 2)[i], color=\"orange\", alpha=0.75, label=o_label)\n",
    "    ax.scatter(*estimated_image_points.reshape(-1, 2)[i], color=\"green\", alpha=0.75, label=g_label)\n",
    "    \n",
    "ax.set_title(\"groundtruth vs predictions - direct linear calibration\")\n",
    "ax.legend()'''\n"
   ]
  }
 ],
 "metadata": {
  "kernelspec": {
   "display_name": "Python 3",
   "language": "python",
   "name": "python3"
  },
  "language_info": {
   "codemirror_mode": {
    "name": "ipython",
    "version": 3
   },
   "file_extension": ".py",
   "mimetype": "text/x-python",
   "name": "python",
   "nbconvert_exporter": "python",
   "pygments_lexer": "ipython3",
   "version": "3.12.0"
  }
 },
 "nbformat": 4,
 "nbformat_minor": 2
}
