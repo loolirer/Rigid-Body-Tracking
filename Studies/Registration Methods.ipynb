{
 "cells": [
  {
   "cell_type": "markdown",
   "metadata": {},
   "source": [
    "# Registration Methods \n",
    "\n",
    "This *Jupyter Notebook* is dedicated to the study of **Rigid Registration Methods**. \n",
    "\n",
    "The following study will be developed by the implementation of *Python* code for the application and visualization of the concepts learned with the use of *NumPy* and *Plotly* libraries. \n",
    "\n",
    "---"
   ]
  },
  {
   "cell_type": "markdown",
   "metadata": {},
   "source": [
    "## Visual Setup\n",
    "\n",
    "The plotting of the interactive graphic visuals will be done by a `Viewer` object based on the *Plotly*'s `Figure` object.\n",
    "\n",
    "---"
   ]
  },
  {
   "cell_type": "code",
   "execution_count": 24,
   "metadata": {},
   "outputs": [],
   "source": [
    "# Importing modules...\n",
    "from modules.frame  import *\n",
    "from modules.viewer import *\n",
    "from modules.rigid  import *"
   ]
  },
  {
   "cell_type": "markdown",
   "metadata": {},
   "source": [
    "## Validation Metrics\n",
    "\n",
    "In each algorithm tryout, a **ground truth** rigid transformation will be randomly generated - composed of a rotation matrix and and a translation vector $R$ and $t$ (or in homogeneous representation, $H$).  \n",
    "\n",
    "This rigid transformation will be applied to an original point-set $A$, generating the new point-set $B$, such that:\n",
    "\n",
    "$$B = R\\cdot A + t$$\n",
    "\n",
    "or \n",
    "\n",
    "$$\\tilde{B} = H \\cdot \\tilde{A}$$\n",
    "\n",
    "Then, the proposed algorithm will calculate the estimated rotation matrix and translation vector $R_e$ and $t_e$ (or in homogeneous transformation, $H_e$). \n",
    "\n",
    "To verify how close these parameters are from the ground truth, both transformations, expressed in the homogeneous form, should satisfy as closely as possible the following expression:\n",
    "\n",
    "$$||H-H_e|| \\approx 0$$\n",
    "\n",
    "\n",
    "\n",
    "---"
   ]
  },
  {
   "cell_type": "code",
   "execution_count": 25,
   "metadata": {},
   "outputs": [],
   "source": [
    "# This function returns the norm of the difference between two matrices \n",
    "def dissimilarity(H, H_e):\n",
    "    return np.linalg.norm(H-H_e)"
   ]
  },
  {
   "cell_type": "markdown",
   "metadata": {},
   "source": [
    "## The Kabsch Algorithm\n",
    "\n",
    "The Kabsch algorithm, also known as the Kabsch-Umeyama algorithm, named after Wolfgang Kabsch and Shinji Umeyama, is a method for calculating the optimal rotation matrix that minimizes the RMSD (root mean squared deviation) between two paired sets of points. It is useful for point-set registration in computer graphics, and in cheminformatics and bioinformatics to compare molecular and protein structures.\n",
    "\n",
    "The following code is adapted and displayed from [here](http://nghiaho.com/?page_id=671).\n",
    "\n",
    "---"
   ]
  },
  {
   "cell_type": "code",
   "execution_count": 26,
   "metadata": {},
   "outputs": [
    {
     "name": "stdout",
     "output_type": "stream",
     "text": [
      "Norm of the difference:  0.04164055033482395\n"
     ]
    },
    {
     "data": {
      "text/html": [
       "        <script type=\"text/javascript\">\n",
       "        window.PlotlyConfig = {MathJaxConfig: 'local'};\n",
       "        if (window.MathJax && window.MathJax.Hub && window.MathJax.Hub.Config) {window.MathJax.Hub.Config({SVG: {font: \"STIX-Web\"}});}\n",
       "        if (typeof require !== 'undefined') {\n",
       "        require.undef(\"plotly\");\n",
       "        requirejs.config({\n",
       "            paths: {\n",
       "                'plotly': ['https://cdn.plot.ly/plotly-2.18.0.min']\n",
       "            }\n",
       "        });\n",
       "        require(['plotly'], function(Plotly) {\n",
       "            window._Plotly = Plotly;\n",
       "        });\n",
       "        }\n",
       "        </script>\n",
       "        "
      ]
     },
     "metadata": {},
     "output_type": "display_data"
    },
    {
     "data": {
      "text/html": [
       "<div>                            <div id=\"0326c684-f2ca-41ed-9a22-9fd70e60bca1\" class=\"plotly-graph-div\" style=\"height:700px; width:900px;\"></div>            <script type=\"text/javascript\">                require([\"plotly\"], function(Plotly) {                    window.PLOTLYENV=window.PLOTLYENV || {};                                    if (document.getElementById(\"0326c684-f2ca-41ed-9a22-9fd70e60bca1\")) {                    Plotly.newPlot(                        \"0326c684-f2ca-41ed-9a22-9fd70e60bca1\",                        [{\"legendgroup\":\"Frames\",\"legendgrouptitle\":{\"text\":\"Frames\"},\"marker\":{\"color\":\"black\",\"opacity\":0.8,\"size\":3},\"mode\":\"markers\",\"name\":\"{W}\",\"showlegend\":true,\"x\":[0.0],\"y\":[0.0],\"z\":[0.0],\"type\":\"scatter3d\"},{\"line\":{\"color\":\"red\",\"width\":3},\"mode\":\"lines\",\"name\":\"xW\",\"showlegend\":false,\"x\":[0.0,1.0],\"y\":[0.0,0.0],\"z\":[0.0,0.0],\"type\":\"scatter3d\"},{\"line\":{\"color\":\"green\",\"width\":3},\"mode\":\"lines\",\"name\":\"yW\",\"showlegend\":false,\"x\":[0.0,0.0],\"y\":[0.0,1.0],\"z\":[0.0,0.0],\"type\":\"scatter3d\"},{\"line\":{\"color\":\"blue\",\"width\":3},\"mode\":\"lines\",\"name\":\"zW\",\"showlegend\":false,\"x\":[0.0,0.0],\"y\":[0.0,0.0],\"z\":[0.0,1.0],\"type\":\"scatter3d\"},{\"legendgroup\":\"Points\",\"legendgrouptitle\":{\"text\":\"Points\"},\"marker\":{\"color\":\"red\",\"opacity\":0.8,\"size\":3},\"mode\":\"markers\",\"name\":\"A0\",\"showlegend\":true,\"x\":[0.5],\"y\":[0.5],\"z\":[0.0],\"type\":\"scatter3d\"},{\"legendgroup\":\"Points\",\"legendgrouptitle\":{\"text\":\"Points\"},\"marker\":{\"color\":\"red\",\"opacity\":0.8,\"size\":3},\"mode\":\"markers\",\"name\":\"A1\",\"showlegend\":true,\"x\":[0.5],\"y\":[0.6],\"z\":[0.0],\"type\":\"scatter3d\"},{\"legendgroup\":\"Points\",\"legendgrouptitle\":{\"text\":\"Points\"},\"marker\":{\"color\":\"red\",\"opacity\":0.8,\"size\":3},\"mode\":\"markers\",\"name\":\"A2\",\"showlegend\":true,\"x\":[0.6],\"y\":[0.5],\"z\":[0.0],\"type\":\"scatter3d\"},{\"legendgroup\":\"Points\",\"legendgrouptitle\":{\"text\":\"Points\"},\"marker\":{\"color\":\"red\",\"opacity\":0.8,\"size\":3},\"mode\":\"markers\",\"name\":\"A3\",\"showlegend\":true,\"x\":[0.6],\"y\":[0.6],\"z\":[0.0],\"type\":\"scatter3d\"},{\"legendgroup\":\"Points\",\"legendgrouptitle\":{\"text\":\"Points\"},\"marker\":{\"color\":\"blue\",\"opacity\":0.8,\"size\":3},\"mode\":\"markers\",\"name\":\"B0\",\"showlegend\":true,\"x\":[0.815392594757067],\"y\":[-0.03560732613656598],\"z\":[-0.5180361831169635],\"type\":\"scatter3d\"},{\"legendgroup\":\"Points\",\"legendgrouptitle\":{\"text\":\"Points\"},\"marker\":{\"color\":\"blue\",\"opacity\":0.8,\"size\":3},\"mode\":\"markers\",\"name\":\"B1\",\"showlegend\":true,\"x\":[0.9166807975357592],\"y\":[-0.037284441834311274],\"z\":[-0.5517392538166425],\"type\":\"scatter3d\"},{\"legendgroup\":\"Points\",\"legendgrouptitle\":{\"text\":\"Points\"},\"marker\":{\"color\":\"blue\",\"opacity\":0.8,\"size\":3},\"mode\":\"markers\",\"name\":\"B2\",\"showlegend\":true,\"x\":[0.8498434719152724],\"y\":[-0.10604006412229913],\"z\":[-0.44273277232188935],\"type\":\"scatter3d\"},{\"legendgroup\":\"Points\",\"legendgrouptitle\":{\"text\":\"Points\"},\"marker\":{\"color\":\"blue\",\"opacity\":0.8,\"size\":3},\"mode\":\"markers\",\"name\":\"B3\",\"showlegend\":true,\"x\":[0.950014857958403],\"y\":[-0.0986101568661471],\"z\":[-0.47379902239214483],\"type\":\"scatter3d\"},{\"legendgroup\":\"Points\",\"legendgrouptitle\":{\"text\":\"Points\"},\"marker\":{\"color\":\"green\",\"opacity\":0.8,\"size\":3},\"mode\":\"markers\",\"name\":\"Be0\",\"showlegend\":true,\"x\":[0.8214894938938291],\"y\":[-0.040770136382345806],\"z\":[-0.516569765978174],\"type\":\"scatter3d\"},{\"legendgroup\":\"Points\",\"legendgrouptitle\":{\"text\":\"Points\"},\"marker\":{\"color\":\"green\",\"opacity\":0.8,\"size\":3},\"mode\":\"markers\",\"name\":\"Be1\",\"showlegend\":true,\"x\":[0.9157570785981387],\"y\":[-0.03599979569170511],\"z\":[-0.5495980315050073],\"type\":\"scatter3d\"},{\"legendgroup\":\"Points\",\"legendgrouptitle\":{\"text\":\"Points\"},\"marker\":{\"color\":\"green\",\"opacity\":0.8,\"size\":3},\"mode\":\"markers\",\"name\":\"Be2\",\"showlegend\":true,\"x\":[0.8502087824851118],\"y\":[-0.10277119878795657],\"z\":[-0.443555584318813],\"type\":\"scatter3d\"},{\"legendgroup\":\"Points\",\"legendgrouptitle\":{\"text\":\"Points\"},\"marker\":{\"color\":\"green\",\"opacity\":0.8,\"size\":3},\"mode\":\"markers\",\"name\":\"Be3\",\"showlegend\":true,\"x\":[0.9444763671894214],\"y\":[-0.09800085809731587],\"z\":[-0.4765838498456463],\"type\":\"scatter3d\"}],                        {\"height\":700,\"title\":{\"text\":\"Kabsch Algorithm Implementation\"},\"width\":900,\"template\":{\"data\":{\"histogram2dcontour\":[{\"type\":\"histogram2dcontour\",\"colorbar\":{\"outlinewidth\":0,\"ticks\":\"\"},\"colorscale\":[[0.0,\"#0d0887\"],[0.1111111111111111,\"#46039f\"],[0.2222222222222222,\"#7201a8\"],[0.3333333333333333,\"#9c179e\"],[0.4444444444444444,\"#bd3786\"],[0.5555555555555556,\"#d8576b\"],[0.6666666666666666,\"#ed7953\"],[0.7777777777777778,\"#fb9f3a\"],[0.8888888888888888,\"#fdca26\"],[1.0,\"#f0f921\"]]}],\"choropleth\":[{\"type\":\"choropleth\",\"colorbar\":{\"outlinewidth\":0,\"ticks\":\"\"}}],\"histogram2d\":[{\"type\":\"histogram2d\",\"colorbar\":{\"outlinewidth\":0,\"ticks\":\"\"},\"colorscale\":[[0.0,\"#0d0887\"],[0.1111111111111111,\"#46039f\"],[0.2222222222222222,\"#7201a8\"],[0.3333333333333333,\"#9c179e\"],[0.4444444444444444,\"#bd3786\"],[0.5555555555555556,\"#d8576b\"],[0.6666666666666666,\"#ed7953\"],[0.7777777777777778,\"#fb9f3a\"],[0.8888888888888888,\"#fdca26\"],[1.0,\"#f0f921\"]]}],\"heatmap\":[{\"type\":\"heatmap\",\"colorbar\":{\"outlinewidth\":0,\"ticks\":\"\"},\"colorscale\":[[0.0,\"#0d0887\"],[0.1111111111111111,\"#46039f\"],[0.2222222222222222,\"#7201a8\"],[0.3333333333333333,\"#9c179e\"],[0.4444444444444444,\"#bd3786\"],[0.5555555555555556,\"#d8576b\"],[0.6666666666666666,\"#ed7953\"],[0.7777777777777778,\"#fb9f3a\"],[0.8888888888888888,\"#fdca26\"],[1.0,\"#f0f921\"]]}],\"heatmapgl\":[{\"type\":\"heatmapgl\",\"colorbar\":{\"outlinewidth\":0,\"ticks\":\"\"},\"colorscale\":[[0.0,\"#0d0887\"],[0.1111111111111111,\"#46039f\"],[0.2222222222222222,\"#7201a8\"],[0.3333333333333333,\"#9c179e\"],[0.4444444444444444,\"#bd3786\"],[0.5555555555555556,\"#d8576b\"],[0.6666666666666666,\"#ed7953\"],[0.7777777777777778,\"#fb9f3a\"],[0.8888888888888888,\"#fdca26\"],[1.0,\"#f0f921\"]]}],\"contourcarpet\":[{\"type\":\"contourcarpet\",\"colorbar\":{\"outlinewidth\":0,\"ticks\":\"\"}}],\"contour\":[{\"type\":\"contour\",\"colorbar\":{\"outlinewidth\":0,\"ticks\":\"\"},\"colorscale\":[[0.0,\"#0d0887\"],[0.1111111111111111,\"#46039f\"],[0.2222222222222222,\"#7201a8\"],[0.3333333333333333,\"#9c179e\"],[0.4444444444444444,\"#bd3786\"],[0.5555555555555556,\"#d8576b\"],[0.6666666666666666,\"#ed7953\"],[0.7777777777777778,\"#fb9f3a\"],[0.8888888888888888,\"#fdca26\"],[1.0,\"#f0f921\"]]}],\"surface\":[{\"type\":\"surface\",\"colorbar\":{\"outlinewidth\":0,\"ticks\":\"\"},\"colorscale\":[[0.0,\"#0d0887\"],[0.1111111111111111,\"#46039f\"],[0.2222222222222222,\"#7201a8\"],[0.3333333333333333,\"#9c179e\"],[0.4444444444444444,\"#bd3786\"],[0.5555555555555556,\"#d8576b\"],[0.6666666666666666,\"#ed7953\"],[0.7777777777777778,\"#fb9f3a\"],[0.8888888888888888,\"#fdca26\"],[1.0,\"#f0f921\"]]}],\"mesh3d\":[{\"type\":\"mesh3d\",\"colorbar\":{\"outlinewidth\":0,\"ticks\":\"\"}}],\"scatter\":[{\"fillpattern\":{\"fillmode\":\"overlay\",\"size\":10,\"solidity\":0.2},\"type\":\"scatter\"}],\"parcoords\":[{\"type\":\"parcoords\",\"line\":{\"colorbar\":{\"outlinewidth\":0,\"ticks\":\"\"}}}],\"scatterpolargl\":[{\"type\":\"scatterpolargl\",\"marker\":{\"colorbar\":{\"outlinewidth\":0,\"ticks\":\"\"}}}],\"bar\":[{\"error_x\":{\"color\":\"#2a3f5f\"},\"error_y\":{\"color\":\"#2a3f5f\"},\"marker\":{\"line\":{\"color\":\"#E5ECF6\",\"width\":0.5},\"pattern\":{\"fillmode\":\"overlay\",\"size\":10,\"solidity\":0.2}},\"type\":\"bar\"}],\"scattergeo\":[{\"type\":\"scattergeo\",\"marker\":{\"colorbar\":{\"outlinewidth\":0,\"ticks\":\"\"}}}],\"scatterpolar\":[{\"type\":\"scatterpolar\",\"marker\":{\"colorbar\":{\"outlinewidth\":0,\"ticks\":\"\"}}}],\"histogram\":[{\"marker\":{\"pattern\":{\"fillmode\":\"overlay\",\"size\":10,\"solidity\":0.2}},\"type\":\"histogram\"}],\"scattergl\":[{\"type\":\"scattergl\",\"marker\":{\"colorbar\":{\"outlinewidth\":0,\"ticks\":\"\"}}}],\"scatter3d\":[{\"type\":\"scatter3d\",\"line\":{\"colorbar\":{\"outlinewidth\":0,\"ticks\":\"\"}},\"marker\":{\"colorbar\":{\"outlinewidth\":0,\"ticks\":\"\"}}}],\"scattermapbox\":[{\"type\":\"scattermapbox\",\"marker\":{\"colorbar\":{\"outlinewidth\":0,\"ticks\":\"\"}}}],\"scatterternary\":[{\"type\":\"scatterternary\",\"marker\":{\"colorbar\":{\"outlinewidth\":0,\"ticks\":\"\"}}}],\"scattercarpet\":[{\"type\":\"scattercarpet\",\"marker\":{\"colorbar\":{\"outlinewidth\":0,\"ticks\":\"\"}}}],\"carpet\":[{\"aaxis\":{\"endlinecolor\":\"#2a3f5f\",\"gridcolor\":\"white\",\"linecolor\":\"white\",\"minorgridcolor\":\"white\",\"startlinecolor\":\"#2a3f5f\"},\"baxis\":{\"endlinecolor\":\"#2a3f5f\",\"gridcolor\":\"white\",\"linecolor\":\"white\",\"minorgridcolor\":\"white\",\"startlinecolor\":\"#2a3f5f\"},\"type\":\"carpet\"}],\"table\":[{\"cells\":{\"fill\":{\"color\":\"#EBF0F8\"},\"line\":{\"color\":\"white\"}},\"header\":{\"fill\":{\"color\":\"#C8D4E3\"},\"line\":{\"color\":\"white\"}},\"type\":\"table\"}],\"barpolar\":[{\"marker\":{\"line\":{\"color\":\"#E5ECF6\",\"width\":0.5},\"pattern\":{\"fillmode\":\"overlay\",\"size\":10,\"solidity\":0.2}},\"type\":\"barpolar\"}],\"pie\":[{\"automargin\":true,\"type\":\"pie\"}]},\"layout\":{\"autotypenumbers\":\"strict\",\"colorway\":[\"#636efa\",\"#EF553B\",\"#00cc96\",\"#ab63fa\",\"#FFA15A\",\"#19d3f3\",\"#FF6692\",\"#B6E880\",\"#FF97FF\",\"#FECB52\"],\"font\":{\"color\":\"#2a3f5f\"},\"hovermode\":\"closest\",\"hoverlabel\":{\"align\":\"left\"},\"paper_bgcolor\":\"white\",\"plot_bgcolor\":\"#E5ECF6\",\"polar\":{\"bgcolor\":\"#E5ECF6\",\"angularaxis\":{\"gridcolor\":\"white\",\"linecolor\":\"white\",\"ticks\":\"\"},\"radialaxis\":{\"gridcolor\":\"white\",\"linecolor\":\"white\",\"ticks\":\"\"}},\"ternary\":{\"bgcolor\":\"#E5ECF6\",\"aaxis\":{\"gridcolor\":\"white\",\"linecolor\":\"white\",\"ticks\":\"\"},\"baxis\":{\"gridcolor\":\"white\",\"linecolor\":\"white\",\"ticks\":\"\"},\"caxis\":{\"gridcolor\":\"white\",\"linecolor\":\"white\",\"ticks\":\"\"}},\"coloraxis\":{\"colorbar\":{\"outlinewidth\":0,\"ticks\":\"\"}},\"colorscale\":{\"sequential\":[[0.0,\"#0d0887\"],[0.1111111111111111,\"#46039f\"],[0.2222222222222222,\"#7201a8\"],[0.3333333333333333,\"#9c179e\"],[0.4444444444444444,\"#bd3786\"],[0.5555555555555556,\"#d8576b\"],[0.6666666666666666,\"#ed7953\"],[0.7777777777777778,\"#fb9f3a\"],[0.8888888888888888,\"#fdca26\"],[1.0,\"#f0f921\"]],\"sequentialminus\":[[0.0,\"#0d0887\"],[0.1111111111111111,\"#46039f\"],[0.2222222222222222,\"#7201a8\"],[0.3333333333333333,\"#9c179e\"],[0.4444444444444444,\"#bd3786\"],[0.5555555555555556,\"#d8576b\"],[0.6666666666666666,\"#ed7953\"],[0.7777777777777778,\"#fb9f3a\"],[0.8888888888888888,\"#fdca26\"],[1.0,\"#f0f921\"]],\"diverging\":[[0,\"#8e0152\"],[0.1,\"#c51b7d\"],[0.2,\"#de77ae\"],[0.3,\"#f1b6da\"],[0.4,\"#fde0ef\"],[0.5,\"#f7f7f7\"],[0.6,\"#e6f5d0\"],[0.7,\"#b8e186\"],[0.8,\"#7fbc41\"],[0.9,\"#4d9221\"],[1,\"#276419\"]]},\"xaxis\":{\"gridcolor\":\"white\",\"linecolor\":\"white\",\"ticks\":\"\",\"title\":{\"standoff\":15},\"zerolinecolor\":\"white\",\"automargin\":true,\"zerolinewidth\":2},\"yaxis\":{\"gridcolor\":\"white\",\"linecolor\":\"white\",\"ticks\":\"\",\"title\":{\"standoff\":15},\"zerolinecolor\":\"white\",\"automargin\":true,\"zerolinewidth\":2},\"scene\":{\"xaxis\":{\"backgroundcolor\":\"#E5ECF6\",\"gridcolor\":\"white\",\"linecolor\":\"white\",\"showbackground\":true,\"ticks\":\"\",\"zerolinecolor\":\"white\",\"gridwidth\":2},\"yaxis\":{\"backgroundcolor\":\"#E5ECF6\",\"gridcolor\":\"white\",\"linecolor\":\"white\",\"showbackground\":true,\"ticks\":\"\",\"zerolinecolor\":\"white\",\"gridwidth\":2},\"zaxis\":{\"backgroundcolor\":\"#E5ECF6\",\"gridcolor\":\"white\",\"linecolor\":\"white\",\"showbackground\":true,\"ticks\":\"\",\"zerolinecolor\":\"white\",\"gridwidth\":2}},\"shapedefaults\":{\"line\":{\"color\":\"#2a3f5f\"}},\"annotationdefaults\":{\"arrowcolor\":\"#2a3f5f\",\"arrowhead\":0,\"arrowwidth\":1},\"geo\":{\"bgcolor\":\"white\",\"landcolor\":\"#E5ECF6\",\"subunitcolor\":\"white\",\"showland\":true,\"showlakes\":true,\"lakecolor\":\"white\"},\"title\":{\"x\":0.05},\"mapbox\":{\"style\":\"light\"}}},\"scene\":{\"xaxis\":{\"title\":{\"text\":\"x\"},\"range\":[-2,2],\"showbackground\":true,\"showticklabels\":true,\"showaxeslabels\":true,\"showgrid\":true,\"showspikes\":true},\"yaxis\":{\"title\":{\"text\":\"y\"},\"range\":[-2,2],\"showbackground\":true,\"showticklabels\":true,\"showaxeslabels\":true,\"showgrid\":true,\"showspikes\":true},\"zaxis\":{\"title\":{\"text\":\"z\"},\"range\":[-2,2],\"showbackground\":true,\"showticklabels\":true,\"showaxeslabels\":true,\"showgrid\":true,\"showspikes\":true},\"aspectmode\":\"cube\",\"camera\":{\"projection\":{\"type\":\"orthographic\"}}}},                        {\"responsive\": true}                    ).then(function(){\n",
       "                            \n",
       "var gd = document.getElementById('0326c684-f2ca-41ed-9a22-9fd70e60bca1');\n",
       "var x = new MutationObserver(function (mutations, observer) {{\n",
       "        var display = window.getComputedStyle(gd).display;\n",
       "        if (!display || display === 'none') {{\n",
       "            console.log([gd, 'removed!']);\n",
       "            Plotly.purge(gd);\n",
       "            observer.disconnect();\n",
       "        }}\n",
       "}});\n",
       "\n",
       "// Listen for the removal of the full notebook cells\n",
       "var notebookContainer = gd.closest('#notebook-container');\n",
       "if (notebookContainer) {{\n",
       "    x.observe(notebookContainer, {childList: true});\n",
       "}}\n",
       "\n",
       "// Listen for the clearing of the current output cell\n",
       "var outputEl = gd.closest('.output');\n",
       "if (outputEl) {{\n",
       "    x.observe(outputEl, {childList: true});\n",
       "}}\n",
       "\n",
       "                        })                };                });            </script>        </div>"
      ]
     },
     "metadata": {},
     "output_type": "display_data"
    }
   ],
   "source": [
    "# Find rotation and translation to align point-set A to point-set B\n",
    "def kabsch(A, B):\n",
    "    assert A.shape == B.shape\n",
    "\n",
    "    # Find centroids and ensure they are 3x1\n",
    "    A_c = np.mean(A, axis=1).reshape(-1, 1)\n",
    "    B_c = np.mean(B, axis=1).reshape(-1, 1)\n",
    "\n",
    "    # Centralize point-sets in origin\n",
    "    A_0 = A - A_c\n",
    "    B_0 = B - B_c\n",
    "\n",
    "    H = A_0 @ np.transpose(B_0)\n",
    "\n",
    "    # Find rotation using Singular Value Decomposition\n",
    "    U, _, Vt = np.linalg.svd(H)\n",
    "    R = Vt.T @ U.T\n",
    "\n",
    "    # Special reflection case\n",
    "    if np.linalg.det(R) < 0: # The rotation matrix determinant should be +1\n",
    "        Vt[2,:] *= -1\n",
    "        R = Vt.T @ U.T\n",
    "\n",
    "    # Finding translation vector\n",
    "    t = -R @ A_c + B_c\n",
    "\n",
    "    return R, t\n",
    "\n",
    "# Create graph viewer\n",
    "viewer = Viewer('Kabsch Algorithm Implementation', graphical=True, size=2)\n",
    "\n",
    "# Plot main frame\n",
    "viewer.add_frame(Frame(), 'W')\n",
    "\n",
    "# Original point-set\n",
    "nPoints = 4\n",
    "psA = square(position=np.array([1/2,1/2,0]).reshape(-1,1), size=1/10)\n",
    "\n",
    "# Plot A\n",
    "for i, A in enumerate(psA.T):\n",
    "    viewer.add_point(A.reshape(-1,1), name=f'A{i}', color='red')\n",
    "\n",
    "# Random rotation and translation\n",
    "R, t = randR(), randt(1)\n",
    "\n",
    "# Point-set B is a rotated and translated point-set A\n",
    "psB = R @ psA + t\n",
    "\n",
    "# Introduce noise in point-set B by changing the maximum noise distance delta\n",
    "delta = 0.01\n",
    "N = np.hstack(np.array([randt(delta) for _ in range(nPoints)])) # Noise matrix\n",
    "psB += N\n",
    "\n",
    "# Plot B\n",
    "for i, B in enumerate(psB.T):\n",
    "    viewer.add_point(B.reshape(-1,1), name=f'B{i}', color='blue')\n",
    "\n",
    "# Calculated R and t by the Kabsch algorithm\n",
    "R_e, t_e = kabsch(psA, psB)\n",
    "\n",
    "# Estimated B\n",
    "psB_e = R_e @ psA + t_e\n",
    "\n",
    "# Plot estimated point-set B\n",
    "for i, B_e in enumerate(psB_e.T):\n",
    "    viewer.add_point(B_e.reshape(-1,1), name=f'Be{i}', color='green')\n",
    "# If the algorithm is satisfactorily implemented, the green dataset (Estimated B) \n",
    "# must be as similar as possible as the blue dataset (Ground Truth B)\n",
    "\n",
    "print('Norm of the difference: ', dissimilarity(join_homo(R, t), join_homo(R_e, t_e)))\n",
    "\n",
    "viewer.figure.show(renderer='notebook_connected') # Choose renderer: 'notebook' for offline mode and 'browser' for browser plots"
   ]
  }
 ],
 "metadata": {
  "kernelspec": {
   "display_name": "Python 3",
   "language": "python",
   "name": "python3"
  },
  "language_info": {
   "codemirror_mode": {
    "name": "ipython",
    "version": 3
   },
   "file_extension": ".py",
   "mimetype": "text/x-python",
   "name": "python",
   "nbconvert_exporter": "python",
   "pygments_lexer": "ipython3",
   "version": "3.11.0"
  },
  "orig_nbformat": 4
 },
 "nbformat": 4,
 "nbformat_minor": 2
}
