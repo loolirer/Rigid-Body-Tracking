{
 "cells": [
  {
   "cell_type": "markdown",
   "metadata": {},
   "source": [
    "# Registration Methods \n",
    "\n",
    "This *Jupyter Notebook* is dedicated to the study of **Rigid Registration Methods**. \n",
    "\n",
    "The following study will be developed by the implementation of *Python* code for the application and visualization of the concepts learned with the use of *NumPy* and *Plotly* libraries. \n",
    "\n",
    "---"
   ]
  },
  {
   "cell_type": "markdown",
   "metadata": {},
   "source": [
    "## Visual Setup\n",
    "\n",
    "The plotting of the interactive graphic visuals will be done by a `Viewer` object based on the *Plotly*'s `Figure` object.\n",
    "\n",
    "---"
   ]
  },
  {
   "cell_type": "code",
   "execution_count": 10,
   "metadata": {},
   "outputs": [],
   "source": [
    "# Importing modules...\n",
    "from modules.frame  import *\n",
    "from modules.viewer import *\n",
    "from modules.rigid  import *"
   ]
  },
  {
   "cell_type": "markdown",
   "metadata": {},
   "source": [
    "## Validation Metrics\n",
    "\n",
    "In each algorithm tryout, a **ground truth** rigid transformation will be randomly generated - composed of a rotation matrix and and a translation vector $R$ and $t$ (or in homogeneous representation, $H$).  \n",
    "\n",
    "This rigid transformation will be applied to an original point-set $A$, generating the new point-set $B$, such that:\n",
    "\n",
    "$$B = R\\cdot A + t$$\n",
    "\n",
    "or \n",
    "\n",
    "$$\\tilde{B} = H \\cdot \\tilde{A}$$\n",
    "\n",
    "Then, the proposed algorithm will calculate the estimated rotation matrix and translation vector $R_e$ and $t_e$ (or in homogeneous transformation, $H_e$). \n",
    "\n",
    "To verify how close these parameters are from the ground truth, both transformations, expressed in the homogeneous form, should satisfy as closely as possible the following expression:\n",
    "\n",
    "$$||H-H_e|| \\approx 0$$\n",
    "\n",
    "\n",
    "\n",
    "---"
   ]
  },
  {
   "cell_type": "code",
   "execution_count": 11,
   "metadata": {},
   "outputs": [],
   "source": [
    "# This function returns the norm of the difference between two matrices \n",
    "def dissimilarity(H, H_e):\n",
    "    return np.linalg.norm(H-H_e)"
   ]
  },
  {
   "attachments": {
    "image-2.png": {
     "image/png": "[encoded data removed]"
    },
    "image.png": {
     "image/png": "[encoded data removed]"
    }
   },
   "cell_type": "markdown",
   "metadata": {},
   "source": [
    "## The Kabsch Algorithm\n",
    "\n",
    "The Kabsch algorithm, also known as the Kabsch-Umeyama algorithm, named after Wolfgang Kabsch and Shinji Umeyama, is a method for calculating the optimal rotation matrix that minimizes the RMSD (root mean squared deviation) between two paired sets of points. It is useful for point-set registration in computer graphics, and in cheminformatics and bioinformatics to compare molecular and protein structures.\n",
    "\n",
    "The following code is adapted and displayed from [here](http://nghiaho.com/?page_id=671).\n",
    "\n",
    "![image.png](attachment:image.png)\n",
    "\n",
    "The main goal of the algorithm is finding the best rotation and translation ('best' in terms of least square errors) that will allign Dataset A to Dataset B.\n",
    "\n",
    "The algorithm follows:\n",
    "1. Recenter both datasets in the origin by their centroids;\n",
    "2. Find the optimal rotation $R$ between the recentered datasets;\n",
    "3. Recalculate their relative translation.\n",
    "\n",
    "### Recentering the Datasets\n",
    "\n",
    "Find both of the dataset centroids. These vectors are found via the average position of the points in the datasets.\n",
    "\n",
    "$$\\bar{A} = \\frac{1}{N} \\sum\\limits_{i=1}^N A^i$$\n",
    "\n",
    "$$\\bar{B} = \\frac{1}{N} \\sum\\limits_{i=1}^N B^i$$\n",
    "\n",
    "To recentralize the datasets in the origin:\n",
    "\n",
    "$$A_0 = A - \\bar{A}$$\n",
    "\n",
    "$$B_0 = B - \\bar{B}$$\n",
    "\n",
    "### Finding the Optimal Rotation\n",
    "\n",
    "Now we aim to solve for the rotation matrix between the datasets around the origin disregarding the translation component.\n",
    "\n",
    "![image-2.png](attachment:image-2.png)\n",
    "\n",
    "For this, the cross covariance matrix $H$ of the two datasets is decomposed using Singular Value Decomposition.\n",
    "\n",
    "The cross-covariance matrix is defined by:\n",
    "\n",
    "$$H = (A - \\bar{A})(B - \\bar{B})^T$$\n",
    "\n",
    "The Singular Value Decomposition of a cross-covariance matrix between two datasets is oftenly used to calculate their rotation between each other.\n",
    "\n",
    "$$[U,\\Sigma,V^T] = SVD(H)$$ \n",
    "\n",
    "Geometrically, since the vector $\\Sigma$ represents a \"stretching\" between datasets, and our analyzed transformation is supposedly rigid, $\\Sigma$ is an identity matrix.\n",
    "\n",
    "So finally, the rotation matrix $R$ will be the transposed of the given SVD:\n",
    "\n",
    "$$R= SVD(H)^T = (U\\cdot V^T)^T = V\\cdot U^T$$\n",
    "\n",
    "If the determinant of the SVD is negative, we should multiply the last column of V^T by -1. Sometimes the SVD can calculate a reflected case ($\\det{R} = -1$) and this does not make any sense in the context of rigid transformations, because rigid transformation matrices will always have a determinant of +1.\n",
    "\n",
    "### Finding the Translation\n",
    "\n",
    "To solve for the translation vector $t$, we may use the prior result. Since:\n",
    "$$R\\cdot A + t = B$$\n",
    "\n",
    "Then:\n",
    "$$R\\cdot\\bar{A} + t = \\bar{B}$$ \n",
    "\n",
    "And finally:\n",
    "$$t = \\bar{B} - R\\cdot\\bar{A}$$\n",
    "\n",
    "---"
   ]
  },
  {
   "cell_type": "code",
   "execution_count": 14,
   "metadata": {},
   "outputs": [
    {
     "name": "stdout",
     "output_type": "stream",
     "text": [
      "Norm of the difference:  9.243065094059318e-16\n"
     ]
    },
    {
     "data": {
      "text/html": [
       "        <script type=\"text/javascript\">\n",
       "        window.PlotlyConfig = {MathJaxConfig: 'local'};\n",
       "        if (window.MathJax && window.MathJax.Hub && window.MathJax.Hub.Config) {window.MathJax.Hub.Config({SVG: {font: \"STIX-Web\"}});}\n",
       "        if (typeof require !== 'undefined') {\n",
       "        require.undef(\"plotly\");\n",
       "        requirejs.config({\n",
       "            paths: {\n",
       "                'plotly': ['https://cdn.plot.ly/plotly-2.18.0.min']\n",
       "            }\n",
       "        });\n",
       "        require(['plotly'], function(Plotly) {\n",
       "            window._Plotly = Plotly;\n",
       "        });\n",
       "        }\n",
       "        </script>\n",
       "        "
      ]
     },
     "metadata": {},
     "output_type": "display_data"
    },
    {
     "data": {
      "text/html": [
       "<div>                            <div id=\"0c8dfb92-1053-4ca9-91e4-d8f284826cde\" class=\"plotly-graph-div\" style=\"height:700px; width:900px;\"></div>            <script type=\"text/javascript\">                require([\"plotly\"], function(Plotly) {                    window.PLOTLYENV=window.PLOTLYENV || {};                                    if (document.getElementById(\"0c8dfb92-1053-4ca9-91e4-d8f284826cde\")) {                    Plotly.newPlot(                        \"0c8dfb92-1053-4ca9-91e4-d8f284826cde\",                        [{\"legendgroup\":\"Frames\",\"legendgrouptitle\":{\"text\":\"Frames\"},\"marker\":{\"color\":\"black\",\"opacity\":0.8,\"size\":3},\"mode\":\"markers\",\"name\":\"{W}\",\"showlegend\":true,\"x\":[0.0],\"y\":[0.0],\"z\":[0.0],\"type\":\"scatter3d\"},{\"line\":{\"color\":\"red\",\"width\":3},\"mode\":\"lines\",\"name\":\"xW\",\"showlegend\":false,\"x\":[0.0,1.0],\"y\":[0.0,0.0],\"z\":[0.0,0.0],\"type\":\"scatter3d\"},{\"line\":{\"color\":\"green\",\"width\":3},\"mode\":\"lines\",\"name\":\"yW\",\"showlegend\":false,\"x\":[0.0,0.0],\"y\":[0.0,1.0],\"z\":[0.0,0.0],\"type\":\"scatter3d\"},{\"line\":{\"color\":\"blue\",\"width\":3},\"mode\":\"lines\",\"name\":\"zW\",\"showlegend\":false,\"x\":[0.0,0.0],\"y\":[0.0,0.0],\"z\":[0.0,1.0],\"type\":\"scatter3d\"},{\"legendgroup\":\"Points\",\"legendgrouptitle\":{\"text\":\"Points\"},\"marker\":{\"color\":\"red\",\"opacity\":0.8,\"size\":3},\"mode\":\"markers\",\"name\":\"A0\",\"showlegend\":true,\"x\":[0.5],\"y\":[0.5],\"z\":[0.0],\"type\":\"scatter3d\"},{\"legendgroup\":\"Points\",\"legendgrouptitle\":{\"text\":\"Points\"},\"marker\":{\"color\":\"red\",\"opacity\":0.8,\"size\":3},\"mode\":\"markers\",\"name\":\"A1\",\"showlegend\":true,\"x\":[0.5],\"y\":[0.6],\"z\":[0.0],\"type\":\"scatter3d\"},{\"legendgroup\":\"Points\",\"legendgrouptitle\":{\"text\":\"Points\"},\"marker\":{\"color\":\"red\",\"opacity\":0.8,\"size\":3},\"mode\":\"markers\",\"name\":\"A2\",\"showlegend\":true,\"x\":[0.6],\"y\":[0.5],\"z\":[0.0],\"type\":\"scatter3d\"},{\"legendgroup\":\"Points\",\"legendgrouptitle\":{\"text\":\"Points\"},\"marker\":{\"color\":\"red\",\"opacity\":0.8,\"size\":3},\"mode\":\"markers\",\"name\":\"A3\",\"showlegend\":true,\"x\":[0.6],\"y\":[0.6],\"z\":[0.0],\"type\":\"scatter3d\"},{\"legendgroup\":\"Points\",\"legendgrouptitle\":{\"text\":\"Points\"},\"marker\":{\"color\":\"blue\",\"opacity\":0.8,\"size\":3},\"mode\":\"markers\",\"name\":\"B0\",\"showlegend\":true,\"x\":[1.176799976550483],\"y\":[0.4901347605481235],\"z\":[0.43764201632649014],\"type\":\"scatter3d\"},{\"legendgroup\":\"Points\",\"legendgrouptitle\":{\"text\":\"Points\"},\"marker\":{\"color\":\"blue\",\"opacity\":0.8,\"size\":3},\"mode\":\"markers\",\"name\":\"B1\",\"showlegend\":true,\"x\":[1.2590669756063049],\"y\":[0.47614829940113906],\"z\":[0.492746642002864],\"type\":\"scatter3d\"},{\"legendgroup\":\"Points\",\"legendgrouptitle\":{\"text\":\"Points\"},\"marker\":{\"color\":\"blue\",\"opacity\":0.8,\"size\":3},\"mode\":\"markers\",\"name\":\"B2\",\"showlegend\":true,\"x\":[1.1456421420263747],\"y\":[0.5601164026844934],\"z\":[0.5019207772951441],\"type\":\"scatter3d\"},{\"legendgroup\":\"Points\",\"legendgrouptitle\":{\"text\":\"Points\"},\"marker\":{\"color\":\"blue\",\"opacity\":0.8,\"size\":3},\"mode\":\"markers\",\"name\":\"B3\",\"showlegend\":true,\"x\":[1.2279091410821965],\"y\":[0.5461299415375089],\"z\":[0.5570254029715179],\"type\":\"scatter3d\"},{\"legendgroup\":\"Points\",\"legendgrouptitle\":{\"text\":\"Points\"},\"marker\":{\"color\":\"green\",\"opacity\":0.8,\"size\":3},\"mode\":\"markers\",\"name\":\"Be0\",\"showlegend\":true,\"x\":[1.176799976550483],\"y\":[0.49013476054812344],\"z\":[0.43764201632649],\"type\":\"scatter3d\"},{\"legendgroup\":\"Points\",\"legendgrouptitle\":{\"text\":\"Points\"},\"marker\":{\"color\":\"green\",\"opacity\":0.8,\"size\":3},\"mode\":\"markers\",\"name\":\"Be1\",\"showlegend\":true,\"x\":[1.2590669756063049],\"y\":[0.476148299401139],\"z\":[0.492746642002864],\"type\":\"scatter3d\"},{\"legendgroup\":\"Points\",\"legendgrouptitle\":{\"text\":\"Points\"},\"marker\":{\"color\":\"green\",\"opacity\":0.8,\"size\":3},\"mode\":\"markers\",\"name\":\"Be2\",\"showlegend\":true,\"x\":[1.1456421420263745],\"y\":[0.5601164026844934],\"z\":[0.501920777295144],\"type\":\"scatter3d\"},{\"legendgroup\":\"Points\",\"legendgrouptitle\":{\"text\":\"Points\"},\"marker\":{\"color\":\"green\",\"opacity\":0.8,\"size\":3},\"mode\":\"markers\",\"name\":\"Be3\",\"showlegend\":true,\"x\":[1.2279091410821965],\"y\":[0.5461299415375089],\"z\":[0.5570254029715178],\"type\":\"scatter3d\"}],                        {\"height\":700,\"title\":{\"text\":\"Kabsch Algorithm Implementation\"},\"width\":900,\"template\":{\"data\":{\"histogram2dcontour\":[{\"type\":\"histogram2dcontour\",\"colorbar\":{\"outlinewidth\":0,\"ticks\":\"\"},\"colorscale\":[[0.0,\"#0d0887\"],[0.1111111111111111,\"#46039f\"],[0.2222222222222222,\"#7201a8\"],[0.3333333333333333,\"#9c179e\"],[0.4444444444444444,\"#bd3786\"],[0.5555555555555556,\"#d8576b\"],[0.6666666666666666,\"#ed7953\"],[0.7777777777777778,\"#fb9f3a\"],[0.8888888888888888,\"#fdca26\"],[1.0,\"#f0f921\"]]}],\"choropleth\":[{\"type\":\"choropleth\",\"colorbar\":{\"outlinewidth\":0,\"ticks\":\"\"}}],\"histogram2d\":[{\"type\":\"histogram2d\",\"colorbar\":{\"outlinewidth\":0,\"ticks\":\"\"},\"colorscale\":[[0.0,\"#0d0887\"],[0.1111111111111111,\"#46039f\"],[0.2222222222222222,\"#7201a8\"],[0.3333333333333333,\"#9c179e\"],[0.4444444444444444,\"#bd3786\"],[0.5555555555555556,\"#d8576b\"],[0.6666666666666666,\"#ed7953\"],[0.7777777777777778,\"#fb9f3a\"],[0.8888888888888888,\"#fdca26\"],[1.0,\"#f0f921\"]]}],\"heatmap\":[{\"type\":\"heatmap\",\"colorbar\":{\"outlinewidth\":0,\"ticks\":\"\"},\"colorscale\":[[0.0,\"#0d0887\"],[0.1111111111111111,\"#46039f\"],[0.2222222222222222,\"#7201a8\"],[0.3333333333333333,\"#9c179e\"],[0.4444444444444444,\"#bd3786\"],[0.5555555555555556,\"#d8576b\"],[0.6666666666666666,\"#ed7953\"],[0.7777777777777778,\"#fb9f3a\"],[0.8888888888888888,\"#fdca26\"],[1.0,\"#f0f921\"]]}],\"heatmapgl\":[{\"type\":\"heatmapgl\",\"colorbar\":{\"outlinewidth\":0,\"ticks\":\"\"},\"colorscale\":[[0.0,\"#0d0887\"],[0.1111111111111111,\"#46039f\"],[0.2222222222222222,\"#7201a8\"],[0.3333333333333333,\"#9c179e\"],[0.4444444444444444,\"#bd3786\"],[0.5555555555555556,\"#d8576b\"],[0.6666666666666666,\"#ed7953\"],[0.7777777777777778,\"#fb9f3a\"],[0.8888888888888888,\"#fdca26\"],[1.0,\"#f0f921\"]]}],\"contourcarpet\":[{\"type\":\"contourcarpet\",\"colorbar\":{\"outlinewidth\":0,\"ticks\":\"\"}}],\"contour\":[{\"type\":\"contour\",\"colorbar\":{\"outlinewidth\":0,\"ticks\":\"\"},\"colorscale\":[[0.0,\"#0d0887\"],[0.1111111111111111,\"#46039f\"],[0.2222222222222222,\"#7201a8\"],[0.3333333333333333,\"#9c179e\"],[0.4444444444444444,\"#bd3786\"],[0.5555555555555556,\"#d8576b\"],[0.6666666666666666,\"#ed7953\"],[0.7777777777777778,\"#fb9f3a\"],[0.8888888888888888,\"#fdca26\"],[1.0,\"#f0f921\"]]}],\"surface\":[{\"type\":\"surface\",\"colorbar\":{\"outlinewidth\":0,\"ticks\":\"\"},\"colorscale\":[[0.0,\"#0d0887\"],[0.1111111111111111,\"#46039f\"],[0.2222222222222222,\"#7201a8\"],[0.3333333333333333,\"#9c179e\"],[0.4444444444444444,\"#bd3786\"],[0.5555555555555556,\"#d8576b\"],[0.6666666666666666,\"#ed7953\"],[0.7777777777777778,\"#fb9f3a\"],[0.8888888888888888,\"#fdca26\"],[1.0,\"#f0f921\"]]}],\"mesh3d\":[{\"type\":\"mesh3d\",\"colorbar\":{\"outlinewidth\":0,\"ticks\":\"\"}}],\"scatter\":[{\"fillpattern\":{\"fillmode\":\"overlay\",\"size\":10,\"solidity\":0.2},\"type\":\"scatter\"}],\"parcoords\":[{\"type\":\"parcoords\",\"line\":{\"colorbar\":{\"outlinewidth\":0,\"ticks\":\"\"}}}],\"scatterpolargl\":[{\"type\":\"scatterpolargl\",\"marker\":{\"colorbar\":{\"outlinewidth\":0,\"ticks\":\"\"}}}],\"bar\":[{\"error_x\":{\"color\":\"#2a3f5f\"},\"error_y\":{\"color\":\"#2a3f5f\"},\"marker\":{\"line\":{\"color\":\"#E5ECF6\",\"width\":0.5},\"pattern\":{\"fillmode\":\"overlay\",\"size\":10,\"solidity\":0.2}},\"type\":\"bar\"}],\"scattergeo\":[{\"type\":\"scattergeo\",\"marker\":{\"colorbar\":{\"outlinewidth\":0,\"ticks\":\"\"}}}],\"scatterpolar\":[{\"type\":\"scatterpolar\",\"marker\":{\"colorbar\":{\"outlinewidth\":0,\"ticks\":\"\"}}}],\"histogram\":[{\"marker\":{\"pattern\":{\"fillmode\":\"overlay\",\"size\":10,\"solidity\":0.2}},\"type\":\"histogram\"}],\"scattergl\":[{\"type\":\"scattergl\",\"marker\":{\"colorbar\":{\"outlinewidth\":0,\"ticks\":\"\"}}}],\"scatter3d\":[{\"type\":\"scatter3d\",\"line\":{\"colorbar\":{\"outlinewidth\":0,\"ticks\":\"\"}},\"marker\":{\"colorbar\":{\"outlinewidth\":0,\"ticks\":\"\"}}}],\"scattermapbox\":[{\"type\":\"scattermapbox\",\"marker\":{\"colorbar\":{\"outlinewidth\":0,\"ticks\":\"\"}}}],\"scatterternary\":[{\"type\":\"scatterternary\",\"marker\":{\"colorbar\":{\"outlinewidth\":0,\"ticks\":\"\"}}}],\"scattercarpet\":[{\"type\":\"scattercarpet\",\"marker\":{\"colorbar\":{\"outlinewidth\":0,\"ticks\":\"\"}}}],\"carpet\":[{\"aaxis\":{\"endlinecolor\":\"#2a3f5f\",\"gridcolor\":\"white\",\"linecolor\":\"white\",\"minorgridcolor\":\"white\",\"startlinecolor\":\"#2a3f5f\"},\"baxis\":{\"endlinecolor\":\"#2a3f5f\",\"gridcolor\":\"white\",\"linecolor\":\"white\",\"minorgridcolor\":\"white\",\"startlinecolor\":\"#2a3f5f\"},\"type\":\"carpet\"}],\"table\":[{\"cells\":{\"fill\":{\"color\":\"#EBF0F8\"},\"line\":{\"color\":\"white\"}},\"header\":{\"fill\":{\"color\":\"#C8D4E3\"},\"line\":{\"color\":\"white\"}},\"type\":\"table\"}],\"barpolar\":[{\"marker\":{\"line\":{\"color\":\"#E5ECF6\",\"width\":0.5},\"pattern\":{\"fillmode\":\"overlay\",\"size\":10,\"solidity\":0.2}},\"type\":\"barpolar\"}],\"pie\":[{\"automargin\":true,\"type\":\"pie\"}]},\"layout\":{\"autotypenumbers\":\"strict\",\"colorway\":[\"#636efa\",\"#EF553B\",\"#00cc96\",\"#ab63fa\",\"#FFA15A\",\"#19d3f3\",\"#FF6692\",\"#B6E880\",\"#FF97FF\",\"#FECB52\"],\"font\":{\"color\":\"#2a3f5f\"},\"hovermode\":\"closest\",\"hoverlabel\":{\"align\":\"left\"},\"paper_bgcolor\":\"white\",\"plot_bgcolor\":\"#E5ECF6\",\"polar\":{\"bgcolor\":\"#E5ECF6\",\"angularaxis\":{\"gridcolor\":\"white\",\"linecolor\":\"white\",\"ticks\":\"\"},\"radialaxis\":{\"gridcolor\":\"white\",\"linecolor\":\"white\",\"ticks\":\"\"}},\"ternary\":{\"bgcolor\":\"#E5ECF6\",\"aaxis\":{\"gridcolor\":\"white\",\"linecolor\":\"white\",\"ticks\":\"\"},\"baxis\":{\"gridcolor\":\"white\",\"linecolor\":\"white\",\"ticks\":\"\"},\"caxis\":{\"gridcolor\":\"white\",\"linecolor\":\"white\",\"ticks\":\"\"}},\"coloraxis\":{\"colorbar\":{\"outlinewidth\":0,\"ticks\":\"\"}},\"colorscale\":{\"sequential\":[[0.0,\"#0d0887\"],[0.1111111111111111,\"#46039f\"],[0.2222222222222222,\"#7201a8\"],[0.3333333333333333,\"#9c179e\"],[0.4444444444444444,\"#bd3786\"],[0.5555555555555556,\"#d8576b\"],[0.6666666666666666,\"#ed7953\"],[0.7777777777777778,\"#fb9f3a\"],[0.8888888888888888,\"#fdca26\"],[1.0,\"#f0f921\"]],\"sequentialminus\":[[0.0,\"#0d0887\"],[0.1111111111111111,\"#46039f\"],[0.2222222222222222,\"#7201a8\"],[0.3333333333333333,\"#9c179e\"],[0.4444444444444444,\"#bd3786\"],[0.5555555555555556,\"#d8576b\"],[0.6666666666666666,\"#ed7953\"],[0.7777777777777778,\"#fb9f3a\"],[0.8888888888888888,\"#fdca26\"],[1.0,\"#f0f921\"]],\"diverging\":[[0,\"#8e0152\"],[0.1,\"#c51b7d\"],[0.2,\"#de77ae\"],[0.3,\"#f1b6da\"],[0.4,\"#fde0ef\"],[0.5,\"#f7f7f7\"],[0.6,\"#e6f5d0\"],[0.7,\"#b8e186\"],[0.8,\"#7fbc41\"],[0.9,\"#4d9221\"],[1,\"#276419\"]]},\"xaxis\":{\"gridcolor\":\"white\",\"linecolor\":\"white\",\"ticks\":\"\",\"title\":{\"standoff\":15},\"zerolinecolor\":\"white\",\"automargin\":true,\"zerolinewidth\":2},\"yaxis\":{\"gridcolor\":\"white\",\"linecolor\":\"white\",\"ticks\":\"\",\"title\":{\"standoff\":15},\"zerolinecolor\":\"white\",\"automargin\":true,\"zerolinewidth\":2},\"scene\":{\"xaxis\":{\"backgroundcolor\":\"#E5ECF6\",\"gridcolor\":\"white\",\"linecolor\":\"white\",\"showbackground\":true,\"ticks\":\"\",\"zerolinecolor\":\"white\",\"gridwidth\":2},\"yaxis\":{\"backgroundcolor\":\"#E5ECF6\",\"gridcolor\":\"white\",\"linecolor\":\"white\",\"showbackground\":true,\"ticks\":\"\",\"zerolinecolor\":\"white\",\"gridwidth\":2},\"zaxis\":{\"backgroundcolor\":\"#E5ECF6\",\"gridcolor\":\"white\",\"linecolor\":\"white\",\"showbackground\":true,\"ticks\":\"\",\"zerolinecolor\":\"white\",\"gridwidth\":2}},\"shapedefaults\":{\"line\":{\"color\":\"#2a3f5f\"}},\"annotationdefaults\":{\"arrowcolor\":\"#2a3f5f\",\"arrowhead\":0,\"arrowwidth\":1},\"geo\":{\"bgcolor\":\"white\",\"landcolor\":\"#E5ECF6\",\"subunitcolor\":\"white\",\"showland\":true,\"showlakes\":true,\"lakecolor\":\"white\"},\"title\":{\"x\":0.05},\"mapbox\":{\"style\":\"light\"}}},\"scene\":{\"xaxis\":{\"title\":{\"text\":\"x\"},\"range\":[-2,2],\"showbackground\":true,\"showticklabels\":true,\"showaxeslabels\":true,\"showgrid\":true,\"showspikes\":true},\"yaxis\":{\"title\":{\"text\":\"y\"},\"range\":[-2,2],\"showbackground\":true,\"showticklabels\":true,\"showaxeslabels\":true,\"showgrid\":true,\"showspikes\":true},\"zaxis\":{\"title\":{\"text\":\"z\"},\"range\":[-2,2],\"showbackground\":true,\"showticklabels\":true,\"showaxeslabels\":true,\"showgrid\":true,\"showspikes\":true},\"aspectmode\":\"cube\",\"camera\":{\"projection\":{\"type\":\"orthographic\"}}}},                        {\"responsive\": true}                    ).then(function(){\n",
       "                            \n",
       "var gd = document.getElementById('0c8dfb92-1053-4ca9-91e4-d8f284826cde');\n",
       "var x = new MutationObserver(function (mutations, observer) {{\n",
       "        var display = window.getComputedStyle(gd).display;\n",
       "        if (!display || display === 'none') {{\n",
       "            console.log([gd, 'removed!']);\n",
       "            Plotly.purge(gd);\n",
       "            observer.disconnect();\n",
       "        }}\n",
       "}});\n",
       "\n",
       "// Listen for the removal of the full notebook cells\n",
       "var notebookContainer = gd.closest('#notebook-container');\n",
       "if (notebookContainer) {{\n",
       "    x.observe(notebookContainer, {childList: true});\n",
       "}}\n",
       "\n",
       "// Listen for the clearing of the current output cell\n",
       "var outputEl = gd.closest('.output');\n",
       "if (outputEl) {{\n",
       "    x.observe(outputEl, {childList: true});\n",
       "}}\n",
       "\n",
       "                        })                };                });            </script>        </div>"
      ]
     },
     "metadata": {},
     "output_type": "display_data"
    }
   ],
   "source": [
    "# Find rotation and translation to align point-set A to point-set B\n",
    "def kabsch(A, B):\n",
    "    assert A.shape == B.shape\n",
    "\n",
    "    # Find centroids and ensure they are 3x1\n",
    "    A_c = np.mean(A, axis=1).reshape(-1, 1)\n",
    "    B_c = np.mean(B, axis=1).reshape(-1, 1)\n",
    "\n",
    "    # Centralize point-sets in origin\n",
    "    A_0 = A - A_c\n",
    "    B_0 = B - B_c\n",
    "\n",
    "    H = A_0 @ np.transpose(B_0)\n",
    "\n",
    "    # Find rotation using Singular Value Decomposition\n",
    "    U, _, Vt = np.linalg.svd(H)\n",
    "    R = Vt.T @ U.T\n",
    "\n",
    "    # Special reflection case\n",
    "    if np.linalg.det(R) < 0: # The rotation matrix determinant should be +1\n",
    "        Vt[2,:] *= -1\n",
    "        R = Vt.T @ U.T\n",
    "\n",
    "    # Finding translation vector\n",
    "    t = -R @ A_c + B_c\n",
    "\n",
    "    return R, t\n",
    "\n",
    "# Create graph viewer\n",
    "viewer = Viewer('Kabsch Algorithm Implementation', graphical=True, size=2)\n",
    "\n",
    "# Plot main frame\n",
    "viewer.add_frame(Frame(), 'W')\n",
    "\n",
    "# Original point-set\n",
    "nPoints = 4\n",
    "psA = square(position=np.array([1/2,1/2,0]).reshape(-1,1), size=1/10)\n",
    "\n",
    "# Plot A\n",
    "for i, A in enumerate(psA.T):\n",
    "    viewer.add_point(A.reshape(-1,1), name=f'A{i}', color='red')\n",
    "\n",
    "# Random rotation and translation\n",
    "R, t = randR(), randt(1)\n",
    "\n",
    "# Point-set B is a rotated and translated point-set A\n",
    "psB = R @ psA + t\n",
    "\n",
    "# Introduce noise in point-set B by changing the maximum noise distance delta\n",
    "delta = 0\n",
    "N = np.hstack(np.array([randt(delta) for _ in range(nPoints)])) # Noise matrix\n",
    "psB += N\n",
    "\n",
    "# Plot B\n",
    "for i, B in enumerate(psB.T):\n",
    "    viewer.add_point(B.reshape(-1,1), name=f'B{i}', color='blue')\n",
    "\n",
    "# Calculated R and t by the Kabsch algorithm\n",
    "R_e, t_e = kabsch(psA, psB)\n",
    "\n",
    "# Estimated B\n",
    "psB_e = R_e @ psA + t_e\n",
    "\n",
    "# Plot estimated point-set B\n",
    "for i, B_e in enumerate(psB_e.T):\n",
    "    viewer.add_point(B_e.reshape(-1,1), name=f'Be{i}', color='green')\n",
    "# If the algorithm is satisfactorily implemented, the green dataset (Estimated B) \n",
    "# must be as similar as possible as the blue dataset (Ground Truth B)\n",
    "\n",
    "print('Norm of the difference: ', dissimilarity(join_homo(R, t), join_homo(R_e, t_e)))\n",
    "\n",
    "viewer.figure.show(renderer='notebook_connected') # Choose renderer: 'notebook' for offline mode and 'browser' for browser plots"
   ]
  },
  {
   "cell_type": "code",
   "execution_count": null,
   "metadata": {},
   "outputs": [],
   "source": []
  }
 ],
 "metadata": {
  "kernelspec": {
   "display_name": "Python 3",
   "language": "python",
   "name": "python3"
  },
  "language_info": {
   "codemirror_mode": {
    "name": "ipython",
    "version": 3
   },
   "file_extension": ".py",
   "mimetype": "text/x-python",
   "name": "python",
   "nbconvert_exporter": "python",
   "pygments_lexer": "ipython3",
   "version": "3.11.0"
  },
  "orig_nbformat": 4
 },
 "nbformat": 4,
 "nbformat_minor": 2
}
